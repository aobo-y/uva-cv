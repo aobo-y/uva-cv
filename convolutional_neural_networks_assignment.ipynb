{
 "cells": [
  {
   "cell_type": "markdown",
   "metadata": {
    "colab_type": "text",
    "id": "view-in-github"
   },
   "source": [
    "<a href=\"https://colab.research.google.com/github/aobo-y/uva-cv/blob/master/convolutional_neural_networks_assignment.ipynb\" target=\"_parent\"><img src=\"https://colab.research.google.com/assets/colab-badge.svg\" alt=\"Open In Colab\"/></a>"
   ]
  },
  {
   "cell_type": "markdown",
   "metadata": {
    "colab_type": "text",
    "id": "z-__RAO5t53G"
   },
   "source": [
    "## Convolutional Neural Networks (CNNs)\n",
    "\n",
    "In this notebook, we will learn to use pytorch's autograd. We will not be implementing gradient computations anymore. First, we will re-implement FashionMNIST Classification using pytorch. Then we will perform FashionMNIST Classification using the LeNet convolutional neural network. We will also be using GPUs for the first time to accelerate computations.\n"
   ]
  },
  {
   "cell_type": "markdown",
   "metadata": {
    "colab_type": "text",
    "id": "Y5AUSc3jufKi"
   },
   "source": [
    "### 1. Using the GPU with pytorch\n"
   ]
  },
  {
   "cell_type": "markdown",
   "metadata": {
    "colab_type": "text",
    "id": "Vby-ogCCxYwa"
   },
   "source": [
    "This code will show you how easy is to do GPU computations in pytorch, and how fast they can be. Note that the first time you run this code there might be some delay in starting up the GPU, so it might actually be slower, so try running this cell multiple times."
   ]
  },
  {
   "cell_type": "code",
   "execution_count": 2,
   "metadata": {
    "colab": {
     "base_uri": "https://localhost:8080/",
     "height": 85
    },
    "colab_type": "code",
    "id": "j0JJRfD6ti7m",
    "outputId": "34ddc469-f3df-41e1-f27f-0a5c4808fd36"
   },
   "outputs": [
    {
     "name": "stdout",
     "output_type": "stream",
     "text": [
      "CPU-time 1.535056s\n",
      "GPU-time 0.029536s\n",
      "\n",
      "CPU was 51.97x times the GPU time\n"
     ]
    }
   ],
   "source": [
    "import torch\n",
    "import time\n",
    "\n",
    "# Let's create two matrices of size dxd and full of random values.\n",
    "d = 5000\n",
    "a = torch.rand(d, d)\n",
    "b = torch.rand(d, d)\n",
    "\n",
    "# Compute a multiplication between the two matrices in CPU.\n",
    "start_time = time.time()\n",
    "output = torch.mm(a,b)  # Regular multiplication in CPU.\n",
    "cpu_time = time.time() - start_time\n",
    "print('CPU-time {0:.6f}s'.format(cpu_time))\n",
    "\n",
    "# Compute a multiplication between the two matrices in GPU.\n",
    "start_time = time.time()\n",
    "a = a.cuda() # Move to GPU.\n",
    "b = b.cuda() # Move to GPU.\n",
    "output = torch.mm(a,b)  # Multiplication happens in GPU.\n",
    "gpu_time = time.time() - start_time\n",
    "print('GPU-time {0:.6f}s\\n'.format(gpu_time))\n",
    "\n",
    "print('CPU was {0:.2f}x times the GPU time'.format(cpu_time / gpu_time))\n"
   ]
  },
  {
   "cell_type": "markdown",
   "metadata": {
    "colab_type": "text",
    "id": "IWcBZ9B8uLKM"
   },
   "source": [
    "Trry experimenting with different values of $d$ and check what kind of improvements in the speed you can get on GPU compared to CPU."
   ]
  },
  {
   "cell_type": "markdown",
   "metadata": {
    "colab_type": "text",
    "id": "PGdZ-bmxb473"
   },
   "source": [
    "### 2. Mini-batch SGD on FashionMNIST using pytorch nn's package.\n"
   ]
  },
  {
   "cell_type": "markdown",
   "metadata": {
    "colab_type": "text",
    "id": "zUfYXo8McA14"
   },
   "source": [
    "In this section we will train a two-layer neural network using pytorch's nn package. First, we will define, the model and its operations. Then we will train the model using mini-batch gradient descent."
   ]
  },
  {
   "cell_type": "code",
   "execution_count": 6,
   "metadata": {
    "colab": {},
    "colab_type": "code",
    "id": "ZtkRGI5jDEKh"
   },
   "outputs": [],
   "source": [
    "import torch.nn as nn\n",
    "import torch.nn.functional as F\n",
    "\n",
    "class TwoLayerNN(nn.Module):\n",
    "  def __init__(self):\n",
    "    super(TwoLayerNN, self).__init__()\n",
    "  \n",
    "    self.linear1 = nn.Linear(1 * 28 * 28, 512)\n",
    "    self.linear2 = nn.Linear(512, 10)\n",
    "        \n",
    "  def forward(self, x):\n",
    "    x = x.view(batchSize, 1 * 28 * 28)\n",
    "    z = F.relu(self.linear1(x))\n",
    "    return self.linear2(z)    "
   ]
  },
  {
   "cell_type": "markdown",
   "metadata": {
    "colab_type": "text",
    "id": "o4-IZG3dDE95"
   },
   "source": [
    "The training code is similar to the code used before."
   ]
  },
  {
   "cell_type": "code",
   "execution_count": 7,
   "metadata": {
    "colab": {
     "base_uri": "https://localhost:8080/",
     "height": 612
    },
    "colab_type": "code",
    "id": "IJDmV7Xgb3RI",
    "outputId": "5691c21b-14d4-4861-a52b-5e58b4ed489c"
   },
   "outputs": [
    {
     "name": "stdout",
     "output_type": "stream",
     "text": [
      "Downloading http://fashion-mnist.s3-website.eu-central-1.amazonaws.com/train-images-idx3-ubyte.gz\n",
      "Downloading http://fashion-mnist.s3-website.eu-central-1.amazonaws.com/train-labels-idx1-ubyte.gz\n",
      "Downloading http://fashion-mnist.s3-website.eu-central-1.amazonaws.com/t10k-images-idx3-ubyte.gz\n",
      "Downloading http://fashion-mnist.s3-website.eu-central-1.amazonaws.com/t10k-labels-idx1-ubyte.gz\n",
      "Processing...\n",
      "Done!\n",
      "Train-epoch 0. Iteration 00100, Avg-Loss: 0.7934, Accuracy: 0.7145\n",
      "Train-epoch 0. Iteration 00200, Avg-Loss: 0.6520, Accuracy: 0.7640\n",
      "Train-epoch 0. Iteration 00300, Avg-Loss: 0.5983, Accuracy: 0.7825\n",
      "Train-epoch 0. Iteration 00400, Avg-Loss: 0.5617, Accuracy: 0.7964\n",
      "Train-epoch 0. Iteration 00500, Avg-Loss: 0.5395, Accuracy: 0.8042\n",
      "Train-epoch 0. Iteration 00600, Avg-Loss: 0.5249, Accuracy: 0.8099\n",
      "Validation-epoch 0. Avg-Loss: 0.4807, Accuracy: 0.8267\n",
      "Train-epoch 1. Iteration 00100, Avg-Loss: 0.4039, Accuracy: 0.8494\n",
      "Train-epoch 1. Iteration 00200, Avg-Loss: 0.3974, Accuracy: 0.8540\n",
      "Train-epoch 1. Iteration 00300, Avg-Loss: 0.4000, Accuracy: 0.8535\n",
      "Train-epoch 1. Iteration 00400, Avg-Loss: 0.4020, Accuracy: 0.8536\n",
      "Train-epoch 1. Iteration 00500, Avg-Loss: 0.4003, Accuracy: 0.8547\n",
      "Train-epoch 1. Iteration 00600, Avg-Loss: 0.3957, Accuracy: 0.8560\n",
      "Validation-epoch 1. Avg-Loss: 0.4244, Accuracy: 0.8489\n",
      "Train-epoch 2. Iteration 00100, Avg-Loss: 0.3552, Accuracy: 0.8668\n",
      "Train-epoch 2. Iteration 00200, Avg-Loss: 0.3571, Accuracy: 0.8688\n",
      "Train-epoch 2. Iteration 00300, Avg-Loss: 0.3673, Accuracy: 0.8660\n",
      "Train-epoch 2. Iteration 00400, Avg-Loss: 0.3670, Accuracy: 0.8657\n",
      "Train-epoch 2. Iteration 00500, Avg-Loss: 0.3698, Accuracy: 0.8642\n",
      "Train-epoch 2. Iteration 00600, Avg-Loss: 0.3693, Accuracy: 0.8644\n",
      "Validation-epoch 2. Avg-Loss: 0.4366, Accuracy: 0.8369\n",
      "Train-epoch 3. Iteration 00100, Avg-Loss: 0.3472, Accuracy: 0.8720\n",
      "Train-epoch 3. Iteration 00200, Avg-Loss: 0.3490, Accuracy: 0.8686\n",
      "Train-epoch 3. Iteration 00300, Avg-Loss: 0.3467, Accuracy: 0.8717\n",
      "Train-epoch 3. Iteration 00400, Avg-Loss: 0.3487, Accuracy: 0.8713\n",
      "Train-epoch 3. Iteration 00500, Avg-Loss: 0.3458, Accuracy: 0.8720\n",
      "Train-epoch 3. Iteration 00600, Avg-Loss: 0.3457, Accuracy: 0.8719\n",
      "Validation-epoch 3. Avg-Loss: 0.4304, Accuracy: 0.8453\n",
      "Train-epoch 4. Iteration 00100, Avg-Loss: 0.3154, Accuracy: 0.8810\n",
      "Train-epoch 4. Iteration 00200, Avg-Loss: 0.3104, Accuracy: 0.8839\n",
      "Train-epoch 4. Iteration 00300, Avg-Loss: 0.3186, Accuracy: 0.8819\n",
      "Train-epoch 4. Iteration 00400, Avg-Loss: 0.3241, Accuracy: 0.8810\n",
      "Train-epoch 4. Iteration 00500, Avg-Loss: 0.3242, Accuracy: 0.8810\n",
      "Train-epoch 4. Iteration 00600, Avg-Loss: 0.3250, Accuracy: 0.8809\n",
      "Validation-epoch 4. Avg-Loss: 0.3788, Accuracy: 0.8668\n"
     ]
    }
   ],
   "source": [
    "import torchvision\n",
    "import torchvision.transforms as transforms\n",
    "from torchvision.datasets import FashionMNIST\n",
    "import torch.optim as optim\n",
    "\n",
    "# Removes, the need to call F.to_image ourselves.\n",
    "# Also, please look up what transforms.Normalize does.\n",
    "transform = transforms.Compose([transforms.ToTensor(),\n",
    "                               transforms.Normalize((0.5, 0.5, 0.5), \n",
    "                                                    (0.5, 0.5, 0.5))])\n",
    "\n",
    "# Load the training, and validation datasets.\n",
    "trainset = FashionMNIST(root = './data', train = True, transform = transform, download = True)\n",
    "valset = FashionMNIST(root = './data', train = False, transform = transform, download = True)\n",
    "\n",
    "# Pytorch DataLoader for iterating over batches.\n",
    "batchSize = 100\n",
    "\n",
    "# Create the model.\n",
    "model = TwoLayerNN()\n",
    "loss_fn = nn.CrossEntropyLoss()\n",
    "\n",
    "# Define a learning rate. \n",
    "learningRate = 5e-2\n",
    "\n",
    "# Optimizer.\n",
    "optimizer = optim.SGD(model.parameters(), lr = learningRate, \n",
    "                      momentum = 0.9, weight_decay = 1e-4)\n",
    "\n",
    "def train_model(model, loss_fn, batchSize, trainset, valset, optimizer):\n",
    "  \n",
    "  # Shuffling is needed in case dataset is not shuffled by default.\n",
    "  train_loader = torch.utils.data.DataLoader(dataset = trainset,\n",
    "                                              batch_size = batchSize,\n",
    "                                              shuffle = True)\n",
    "  # We don't need to bach the validation set but let's do it anyway.\n",
    "  val_loader = torch.utils.data.DataLoader(dataset = valset,\n",
    "                                            batch_size = batchSize,\n",
    "                                            shuffle = False) # No need.\n",
    "  \n",
    "  # Define number of epochs.\n",
    "  N = 5\n",
    "\n",
    "  # log accuracies and losses.\n",
    "  train_accuracies = []; val_accuracies = []\n",
    "  train_losses = []; val_losses = []\n",
    "\n",
    "  # GPU enabling.\n",
    "  model = model.cuda()\n",
    "  loss_fn = loss_fn.cuda()\n",
    "\n",
    "\n",
    "  # Training loop. Please make sure you understand every single line of code below.\n",
    "  # Go back to some of the previous steps in this lab if necessary.\n",
    "  for epoch in range(0, N):\n",
    "      correct = 0.0\n",
    "      cum_loss = 0.0\n",
    "\n",
    "      # Make a pass over the training data.\n",
    "      model.train()\n",
    "      for (i, (inputs, labels)) in enumerate(train_loader):\n",
    "          inputs = inputs.cuda()\n",
    "          labels = labels.cuda()\n",
    "\n",
    "          # Forward pass. (Prediction stage)\n",
    "          scores = model(inputs)\n",
    "          loss = loss_fn(scores, labels)\n",
    "\n",
    "          # Count how many correct in this batch.\n",
    "          max_scores, max_labels = scores.max(1)\n",
    "          correct += (max_labels == labels).sum().item()\n",
    "          cum_loss += loss.item()\n",
    "\n",
    "          # Zero the gradients in the network.\n",
    "          optimizer.zero_grad()\n",
    "\n",
    "          #Backward pass. (Gradient computation stage)\n",
    "          loss.backward()\n",
    "\n",
    "          # Parameter updates (SGD step) -- if done with torch.optim!\n",
    "          optimizer.step()\n",
    "\n",
    "          # Parameter updates (SGD step) -- if done manually!\n",
    "          # for param in model.parameters():\n",
    "          #   param.data.add_(-learningRate, param.grad)\n",
    "\n",
    "          # Logging the current results on training.\n",
    "          if (i + 1) % 100 == 0:\n",
    "              print('Train-epoch %d. Iteration %05d, Avg-Loss: %.4f, Accuracy: %.4f' % \n",
    "                    (epoch, i + 1, cum_loss / (i + 1), correct / ((i + 1) * batchSize)))\n",
    "\n",
    "      train_accuracies.append(correct / len(trainset))\n",
    "      train_losses.append(cum_loss / (i + 1))   \n",
    "\n",
    "      # Make a pass over the validation data.\n",
    "      correct = 0.0\n",
    "      cum_loss = 0.0\n",
    "      model.eval()\n",
    "      for (i, (inputs, labels)) in enumerate(val_loader):\n",
    "          inputs = inputs.cuda()\n",
    "          labels = labels.cuda()\n",
    "\n",
    "          # Forward pass. (Prediction stage)\n",
    "          scores = model(inputs)\n",
    "          cum_loss += loss_fn(scores, labels).item()\n",
    "\n",
    "           # Count how many correct in this batch.\n",
    "          max_scores, max_labels = scores.max(1)\n",
    "          correct += (max_labels == labels).sum().item()\n",
    "\n",
    "      val_accuracies.append(correct / len(valset))\n",
    "      val_losses.append(cum_loss / (i + 1))\n",
    "\n",
    "      # Logging the current results on validation.\n",
    "      print('Validation-epoch %d. Avg-Loss: %.4f, Accuracy: %.4f' % \n",
    "            (epoch, cum_loss / (i + 1), correct / len(valset)))\n",
    "      \n",
    "      \n",
    "train_model(model, loss_fn, batchSize, trainset, valset, optimizer)"
   ]
  },
  {
   "cell_type": "markdown",
   "metadata": {
    "colab_type": "text",
    "id": "NheOKVEvktSU"
   },
   "source": [
    "We achieved an accuracy of 86% and achieved 83% in only one epoch. Our model is very similar to the models we implemented before, but now we are using SGD with regularization (weightDecay), and momentum updates (using the history of previous gradients) in order to update the parameters. We also have generic train_model function that is independent of the model passed as a parameter. We no longer need to focus on this training loop, and instead can concentrate in the design of models. "
   ]
  },
  {
   "cell_type": "markdown",
   "metadata": {
    "colab_type": "text",
    "id": "rL8RK38atNE5"
   },
   "source": [
    "### 3. Convolutional Neural Network -- LeNet\n"
   ]
  },
  {
   "cell_type": "markdown",
   "metadata": {
    "colab_type": "text",
    "id": "w2SukZfmtbH_"
   },
   "source": [
    "We are close to implementing a neural network, we can accomplish this by stacking a linear operation on top of a Rectified Linear Unit (ReLU) activation, another linear operation, and the softmax + negative log likelihood loss. This is all it takes to create simple neural network with one hidden layer. First, let's implement the ReLU layer as we implemented the linear layer. "
   ]
  },
  {
   "cell_type": "code",
   "execution_count": 8,
   "metadata": {
    "colab": {
     "base_uri": "https://localhost:8080/",
     "height": 612
    },
    "colab_type": "code",
    "id": "i6ZplFBMwAkD",
    "outputId": "971b13d9-459a-4ad3-9b66-5056388470c5"
   },
   "outputs": [
    {
     "name": "stdout",
     "output_type": "stream",
     "text": [
      "Train-epoch 0. Iteration 00100, Avg-Loss: 0.9740, Accuracy: 0.6466\n",
      "Train-epoch 0. Iteration 00200, Avg-Loss: 0.7782, Accuracy: 0.7126\n",
      "Train-epoch 0. Iteration 00300, Avg-Loss: 0.6829, Accuracy: 0.7469\n",
      "Train-epoch 0. Iteration 00400, Avg-Loss: 0.6275, Accuracy: 0.7684\n",
      "Train-epoch 0. Iteration 00500, Avg-Loss: 0.5813, Accuracy: 0.7861\n",
      "Train-epoch 0. Iteration 00600, Avg-Loss: 0.5504, Accuracy: 0.7978\n",
      "Validation-epoch 0. Avg-Loss: 0.3803, Accuracy: 0.8613\n",
      "Train-epoch 1. Iteration 00100, Avg-Loss: 0.3661, Accuracy: 0.8656\n",
      "Train-epoch 1. Iteration 00200, Avg-Loss: 0.3593, Accuracy: 0.8678\n",
      "Train-epoch 1. Iteration 00300, Avg-Loss: 0.3480, Accuracy: 0.8715\n",
      "Train-epoch 1. Iteration 00400, Avg-Loss: 0.3406, Accuracy: 0.8755\n",
      "Train-epoch 1. Iteration 00500, Avg-Loss: 0.3350, Accuracy: 0.8780\n",
      "Train-epoch 1. Iteration 00600, Avg-Loss: 0.3320, Accuracy: 0.8793\n",
      "Validation-epoch 1. Avg-Loss: 0.3322, Accuracy: 0.8790\n",
      "Train-epoch 2. Iteration 00100, Avg-Loss: 0.2799, Accuracy: 0.8935\n",
      "Train-epoch 2. Iteration 00200, Avg-Loss: 0.2874, Accuracy: 0.8941\n",
      "Train-epoch 2. Iteration 00300, Avg-Loss: 0.2879, Accuracy: 0.8942\n",
      "Train-epoch 2. Iteration 00400, Avg-Loss: 0.2837, Accuracy: 0.8956\n",
      "Train-epoch 2. Iteration 00500, Avg-Loss: 0.2819, Accuracy: 0.8962\n",
      "Train-epoch 2. Iteration 00600, Avg-Loss: 0.2799, Accuracy: 0.8974\n",
      "Validation-epoch 2. Avg-Loss: 0.2902, Accuracy: 0.8934\n",
      "Train-epoch 3. Iteration 00100, Avg-Loss: 0.2427, Accuracy: 0.9119\n",
      "Train-epoch 3. Iteration 00200, Avg-Loss: 0.2500, Accuracy: 0.9080\n",
      "Train-epoch 3. Iteration 00300, Avg-Loss: 0.2500, Accuracy: 0.9089\n",
      "Train-epoch 3. Iteration 00400, Avg-Loss: 0.2496, Accuracy: 0.9091\n",
      "Train-epoch 3. Iteration 00500, Avg-Loss: 0.2495, Accuracy: 0.9092\n",
      "Train-epoch 3. Iteration 00600, Avg-Loss: 0.2489, Accuracy: 0.9095\n",
      "Validation-epoch 3. Avg-Loss: 0.2904, Accuracy: 0.8966\n",
      "Train-epoch 4. Iteration 00100, Avg-Loss: 0.2152, Accuracy: 0.9207\n",
      "Train-epoch 4. Iteration 00200, Avg-Loss: 0.2124, Accuracy: 0.9222\n",
      "Train-epoch 4. Iteration 00300, Avg-Loss: 0.2188, Accuracy: 0.9199\n",
      "Train-epoch 4. Iteration 00400, Avg-Loss: 0.2194, Accuracy: 0.9196\n",
      "Train-epoch 4. Iteration 00500, Avg-Loss: 0.2218, Accuracy: 0.9194\n",
      "Train-epoch 4. Iteration 00600, Avg-Loss: 0.2222, Accuracy: 0.9192\n",
      "Validation-epoch 4. Avg-Loss: 0.2764, Accuracy: 0.8988\n"
     ]
    }
   ],
   "source": [
    "# Insipired on LeNet, first proposed in: \n",
    "# https://ieeexplore.ieee.org/abstract/document/726791\n",
    "# PDF: http://www.cs.virginia.edu/~vicente/deeplearning/readings/lecun1998.pdf\n",
    "class LeNet(nn.Module):\n",
    "    def __init__(self):\n",
    "        super(LeNet, self).__init__()\n",
    "        \n",
    "        # Convolutional layers.\n",
    "        self.conv1 = nn.Conv2d(1, 32, 5)\n",
    "        self.conv2 = nn.Conv2d(32, 64, 5)\n",
    "        \n",
    "        # Linear layers.\n",
    "        self.fc1 = nn.Linear(64*4*4, 120)\n",
    "        self.fc2 = nn.Linear(120, 84)\n",
    "        self.fc3 = nn.Linear(84, 10)\n",
    "\n",
    "    def forward(self, x):\n",
    "        # Conv1 + ReLU + MaxPooling.\n",
    "        out = F.relu(self.conv1(x))\n",
    "        out = F.max_pool2d(out, 2)\n",
    "        \n",
    "        # Conv2 + ReLU + MaPooling.\n",
    "        out = F.relu(self.conv2(out))\n",
    "        out = F.max_pool2d(out, 2)\n",
    "        \n",
    "        # This flattens the output of the previous layer into a vector.\n",
    "        out = out.view(out.size(0), -1) \n",
    "        \n",
    "        # Linear layer + ReLU.\n",
    "        out = F.relu(self.fc1(out))\n",
    "        # Linear layer + ReLU.\n",
    "        out = F.relu(self.fc2(out))\n",
    "        # A final linear layer at the end.\n",
    "        out = self.fc3(out)\n",
    "       \n",
    "        # We will not add Softmax here because nn.CrossEntropy does it.\n",
    "        # Read the documentation for nn.CrossEntropy.\n",
    "        return out\n",
    "\n",
    "cnn_model = LeNet()\n",
    "\n",
    "# print(cnn_model) # It shows the network structure.\n",
    "\n",
    "# see: ADAM: A Method for Stochastic Optimization.\n",
    "# https://arxiv.org/pdf/1412.6980.pdf\n",
    "optimizer = optim.Adam(cnn_model.parameters(), lr = 1e-3)\n",
    "\n",
    "train_model(cnn_model, loss_fn, batchSize, trainset, valset, optimizer)"
   ]
  },
  {
   "cell_type": "markdown",
   "metadata": {
    "colab_type": "text",
    "id": "Ilbw19lNz7at"
   },
   "source": [
    "Now we have a working model that classifies images at 90% accuracy. Moreover, this simple convolutional neural network matches the accuracy of the shallow classifier on the very first epoch.\n",
    "\n",
    "You can find a list of results that people have obtained on FashionMNIST using more sophisticated neural networks here, including some accuracies slightly above 95%: https://github.com/zalandoresearch/fashion-mnist"
   ]
  },
  {
   "cell_type": "markdown",
   "metadata": {
    "colab_type": "text",
    "id": "RwiS4j7Y0QDA"
   },
   "source": [
    "### 4. Using a Pre-Trained Convolutional Neural Network -- Inception_v3\n",
    "\n"
   ]
  },
  {
   "cell_type": "markdown",
   "metadata": {
    "colab_type": "text",
    "id": "NtXw6mag8Lr_"
   },
   "source": [
    "In this section we will load a network pretrained on the ImageNet ILSVRC dataset, which has RGB images annotated with one label out of a vocabulary 1000 categories, and use it to make predictions on new images. We will use the Inception_v3 neural network proposed by Google, a successor of their GoogLeNet network which we will analyze during class."
   ]
  },
  {
   "cell_type": "code",
   "execution_count": 9,
   "metadata": {
    "colab": {},
    "colab_type": "code",
    "id": "exzGdlnJ-DRf"
   },
   "outputs": [],
   "source": [
    "import torchvision.models as models\n",
    "\n",
    "# Download list of 1000 categories for the ILSVRC task in right order.\n",
    "!wget -nc -q http://www.cs.virginia.edu/~vicente/vision/imagenet_class_index.json\n",
    "\n",
    "# Load the pre-trained model from the torchvision package.\n",
    "# https://arxiv.org/abs/1512.00567  # Re-thinking the Inception Architecture.\n",
    "cnn_model = models.inception_v3(pretrained = True)\n",
    "cnn_model.eval();  # Set in evaluation mode! In this case it matters.\n",
    "\n",
    "# print(resnet) # It shows the network structure.\n",
    "# You should instead look at source code here:\n",
    "# https://pytorch.org/docs/stable/_modules/torchvision/models/inception.html#inception_v3"
   ]
  },
  {
   "cell_type": "markdown",
   "metadata": {
    "colab_type": "text",
    "id": "l4U2JHinB4Mo"
   },
   "source": [
    "Now we will use the model, but we have to be careful to use the exact same pre-processing steps for the input as it was done during training. I am providing the code here below that pre-processes images in the same way as this model was trained."
   ]
  },
  {
   "cell_type": "code",
   "execution_count": 10,
   "metadata": {
    "colab": {
     "base_uri": "https://localhost:8080/",
     "height": 417
    },
    "colab_type": "code",
    "id": "Khg2L3QgC1lI",
    "outputId": "3636a979-de81-40a9-e8fe-9a05848aab88"
   },
   "outputs": [],
   "source": [
    "import torchvision.transforms as transforms\n",
    "from PIL import Image\n",
    "import matplotlib.pyplot as plt\n",
    "import json, io, requests, string\n",
    "\n",
    "# 1. Define the appropriate image pre-processing function.\n",
    "# This has to be the preprocessing function used during training. \n",
    "preprocessFn = transforms.Compose(\n",
    "    [transforms.Resize(256),  # 1. Resize smallest side to 256.\n",
    "     transforms.CenterCrop(224), # 2. Crop the center 224x224 pixels.\n",
    "     transforms.ToTensor(), # 3. Convert to pytorch tensor.\n",
    "     transforms.Normalize(mean = [0.485, 0.456, 0.406],  # normalize.\n",
    "                          std = [0.229, 0.224, 0.225])])\n",
    "\n",
    "# 2. Load the imagenet class names.\n",
    "imagenetClasses = {int(idx): entry[1] for (idx, entry) in \n",
    "                   json.load(open('imagenet_class_index.json')).items()}\n",
    "\n",
    "# 3. Read image from URL into a PIL image type.\n",
    "# This is a picture of a cat I took at the \n",
    "# Edgar Allan Poe's museum in Richmond, VA.\n",
    "# Try other images!\n",
    "img_url = 'http://www.cs.virginia.edu/~vicente/vision/black-cat.jpg'\n",
    "response = requests.get(img_url)\n",
    "img_pil = Image.open(io.BytesIO(response.content))\n",
    "\n",
    "# 4. Forward propagate the image through the CNN.\n",
    "# Unsqueeze adds a dummy batch dimension needed to pass through the model.\n",
    "input_img =  preprocessFn(img_pil).unsqueeze(0)\n",
    "predictions = cnn_model(input_img)\n",
    "\n",
    "# 5. Decode the top 5 classes predicted for this image.\n",
    "# We need to apply softmax because the model outputs the last linear layer\n",
    "# outputs and not softmax scores.\n",
    "probs, indices = (-F.softmax(predictions, dim = 1).data).sort()\n",
    "probs = (-probs).numpy()[0][:5]; indices = indices.numpy()[0][:10]\n",
    "preds = ['P[\\\"' + imagenetClasses[idx] + '\\\"] = ' + ('%.6f' % prob) \\\n",
    "         for (prob, idx) in zip(probs, indices)]\n",
    "\n",
    "# 6. Show image and predictions\n",
    "plt.title('\\n'.join(preds))\n",
    "plt.imshow(img_pil); plt.grid(False); plt.axis('off');"
   ]
  },
  {
   "cell_type": "markdown",
   "metadata": {
    "colab_type": "text",
    "id": "971f_ox4GE_f"
   },
   "source": [
    "### 5. Fine-tuning a Pre-trained Model for a Different Task (and Dataset) \n",
    "\n"
   ]
  },
  {
   "cell_type": "markdown",
   "metadata": {
    "colab_type": "text",
    "id": "lep4SQKDGUGU"
   },
   "source": [
    "Pre-trained models can be adapted to other tasks, by lightly re-training them (with a small learning rate), and replacing some of the last layers with custom layers for a different task. This process is usually referred as fine-tuning a network, and is the usual way of using neural networks for many applications. In this assignment we will be using the MIT Indoor Scenes Dataset introduced at CVPR 2009 http://web.mit.edu/torralba/www/indoor.html. This dataset has more than 15 thousand images belonging to 67 categories of indoor scenes (e.g. meeting room, dining room, toy store, restaurant, etc). "
   ]
  },
  {
   "cell_type": "markdown",
   "metadata": {
    "colab_type": "text",
    "id": "orLtdIoJdcGW"
   },
   "source": [
    "\n",
    "**Preparing the Data - Indoor Place Recognition**\n",
    "\n",
    "\n",
    "When the MIT researchers Ariadna Quattoni and Antonio Torralba performed this work, they only used 67 \\* 80 = 5360 images for training, and 67 \\* 20 = 1340 images for testing, but we will use all the images instead. The tar file with all the images is about 2.4GB but we already downloaded, resized and cropped images to a 256x256 resolution for a total of 235MB. We also separated the images into three groups MIT-test, which is the same test data used in the original work, and [train-uva.tar.gz](https://www.cs.virginia.edu/~vicente/deeplearning/train-uva.tar.gz), [val-uva.tar.gz](https://www.cs.virginia.edu/~vicente/deeplearning/val-uva.tar.gz) which are the rest of the images sub-divided into training and validation sets. We will not use the MIT-test images as this is the test set, so I am not providing the test images at all. The images inside these tar-files were already arranged in the format required to use the [torchvision.datasets.ImageFolder](https://pytorch.org/docs/stable/_modules/torchvision/datasets/folder.html#ImageFolder) class."
   ]
  },
  {
   "cell_type": "code",
   "execution_count": 11,
   "metadata": {
    "colab": {
     "base_uri": "https://localhost:8080/",
     "height": 187
    },
    "colab_type": "code",
    "id": "oPGt-WpxGQtx",
    "outputId": "45627912-a3b9-4847-a7cf-dde11d2d40b3"
   },
   "outputs": [
    {
     "name": "stdout",
     "output_type": "stream",
     "text": [
      "--2019-03-02 19:43:39--  https://www.cs.virginia.edu/~vicente/deeplearning/val-uva.tar.gz\n",
      "Resolving www.cs.virginia.edu (www.cs.virginia.edu)... 128.143.67.11\n",
      "Connecting to www.cs.virginia.edu (www.cs.virginia.edu)|128.143.67.11|:443... connected.\n",
      "HTTP request sent, awaiting response... 200 OK\n",
      "Length: 17513967 (17M) [application/x-gzip]\n",
      "Saving to: 'val-uva.tar.gz'\n",
      "\n",
      "val-uva.tar.gz      100%[===================>]  16.70M  34.4MB/s    in 0.5s    \n",
      "\n",
      "2019-03-02 19:43:40 (34.4 MB/s) - 'val-uva.tar.gz' saved [17513967/17513967]\n",
      "\n",
      "--2019-03-02 19:43:40--  https://www.cs.virginia.edu/~vicente/deeplearning/train-uva.tar.gz\n",
      "Resolving www.cs.virginia.edu (www.cs.virginia.edu)... 128.143.67.11\n",
      "Connecting to www.cs.virginia.edu (www.cs.virginia.edu)|128.143.67.11|:443... connected.\n",
      "HTTP request sent, awaiting response... 200 OK\n",
      "Length: 170947073 (163M) [application/x-gzip]\n",
      "Saving to: 'train-uva.tar.gz'\n",
      "\n",
      "train-uva.tar.gz    100%[===================>] 163.03M  79.5MB/s    in 2.1s    \n",
      "\n",
      "2019-03-02 19:43:43 (79.5 MB/s) - 'train-uva.tar.gz' saved [170947073/170947073]\n",
      "\n",
      "tar: Ignoring unknown extended header keyword 'SCHILY.dev'\n",
      "tar: Ignoring unknown extended header keyword 'SCHILY.ino'\n",
      "tar: Ignoring unknown extended header keyword 'SCHILY.nlink'\n",
      "tar: Ignoring unknown extended header keyword 'SCHILY.dev'\n",
      "tar: Ignoring unknown extended header keyword 'SCHILY.ino'\n",
      "tar: Ignoring unknown extended header keyword 'SCHILY.nlink'\n"
     ]
    }
   ],
   "source": [
    "# First download the data files.\n",
    "!wget -nc https://www.cs.virginia.edu/~vicente/deeplearning/val-uva.tar.gz\n",
    "!wget -nc https://www.cs.virginia.edu/~vicente/deeplearning/train-uva.tar.gz\n",
    "!tar xf val-uva.tar.gz\n",
    "!tar xf train-uva.tar.gz"
   ]
  },
  {
   "cell_type": "markdown",
   "metadata": {
    "colab_type": "text",
    "id": "5DTHtbWVeR7J"
   },
   "source": [
    "**Data Augmentation: ** We often want to apply different transformations during training compared to testing to augment the data during training. In pytorch we can achieve this with minimal modifications by specifying a slightly different transformation function during training. However, one has to be careful that both training and testing images are subject to similar transformations."
   ]
  },
  {
   "cell_type": "code",
   "execution_count": 12,
   "metadata": {
    "colab": {
     "base_uri": "https://localhost:8080/",
     "height": 362
    },
    "colab_type": "code",
    "id": "a6hEvENbc26B",
    "outputId": "ad4b84f9-8b95-48a1-d1d7-4fe7d821fbdb"
   },
   "outputs": [
    {
     "data": {
      "image/png": "[encoded data removed]",
      "text/plain": [
       "<Figure size 432x288 with 1 Axes>"
      ]
     },
     "metadata": {},
     "output_type": "display_data"
    }
   ],
   "source": [
    "import torchvision.transforms as transforms\n",
    "import torchvision.datasets as datasets\n",
    "import matplotlib.pyplot as plt\n",
    "\n",
    "train_transform = transforms.Compose(\n",
    "    [transforms.Resize(256),  # 1. Resize smallest side to 256.\n",
    "     transforms.RandomCrop(224), # 2. Crop random square of 224x224 pixels.\n",
    "     transforms.RandomHorizontalFlip(),\n",
    "     transforms.ToTensor(), # 3. Convert to pytorch tensor.\n",
    "     transforms.Normalize(mean = [0.485, 0.456, 0.406],  # normalize.\n",
    "                          std = [0.229, 0.224, 0.225])])\n",
    "\n",
    "test_transform = transforms.Compose(\n",
    "    [transforms.Resize(256),  # 1. Resize smallest side to 256.\n",
    "     transforms.CenterCrop(224), # 2. Crop center square of 224x224 pixels.\n",
    "     transforms.ToTensor(), # 3. Convert to pytorch tensor.\n",
    "     transforms.Normalize(mean = [0.485, 0.456, 0.406],  # normalize.\n",
    "                          std = [0.229, 0.224, 0.225])])\n",
    "\n",
    "train_dataset = datasets.ImageFolder(\"train-uva\", train_transform)\n",
    "val_dataset = datasets.ImageFolder(\"val-uva\", test_transform)\n",
    "\n",
    "# Try seeing other images in this dataset.\n",
    "# If you run this cell multiple times, you will perhaps notice\n",
    "# that the images are indeed slightly shifted (due to random cropping),\n",
    "# or they are mirrored (due to the horizonal flipping).\n",
    "# Only for the train_dataset this will happen.\n",
    "my_image, my_label = train_dataset[1234]\n",
    "\n",
    "# Show the image and its label.\n",
    "plt.figure()\n",
    "plt.title(\"Category: \" + train_dataset.classes[my_label])\n",
    "# Undo normalization of the pixel values.\n",
    "for t, m, s in zip(my_image, [0.485, 0.456, 0.406], [0.229, 0.224, 0.225]):\n",
    "  t.mul_(s).add_(m)\n",
    "# Re-arrange dimensions so it is height x width x channels.\n",
    "plt.imshow(my_image.transpose(0,2).transpose(0,1));\n",
    "plt.grid(False); plt.axis('off');"
   ]
  },
  {
   "cell_type": "markdown",
   "metadata": {
    "colab_type": "text",
    "id": "6SjAU6lNkt63"
   },
   "source": [
    "The rest of this tutorial is unfinished and is to be completed as part of the assignment, instructions follow below."
   ]
  },
  {
   "cell_type": "markdown",
   "metadata": {
    "colab_type": "text",
    "id": "L_8eQuKBi7u0"
   },
   "source": [
    "## Assignment Questions [10pts]"
   ]
  },
  {
   "cell_type": "markdown",
   "metadata": {
    "colab_type": "text",
    "id": "HpPb-CRh47Ct"
   },
   "source": [
    "### 1. Fine-tuning [3pts]: \n",
    "Fine-tune the Alexnet model from (Krizhevsky, Sustkever, Hinton 2012) for Indoor Scene Recognition using the MIT dataset, and provide a training/validation plot for losses and accuracy. The idea of \"fine-tuning\" is to train the network only slightly (small learning rate) so that it learns the new task but doesn't completely over-writes the previous weights. This is usually referred to as \"fine-tuning\". What is a reasonable accuracy on this dataset? You can check this paper from 2014 by Zhou et al which contains more recent results  http://places.csail.mit.edu/places_NIPS14.pdf. It seems pre-training on Imagenet should lead to 56% accuracy using a version of Alexnet, so this is the expectation here. You have to select optimizer, batch size, etc, to make this happen."
   ]
  },
  {
   "cell_type": "code",
   "execution_count": 13,
   "metadata": {
    "colab": {
     "base_uri": "https://localhost:8080/",
     "height": 51
    },
    "colab_type": "code",
    "id": "0ReR6YZC47eW",
    "outputId": "adcb0012-e820-4ee6-c5ae-4650099355ea"
   },
   "outputs": [
    {
     "name": "stderr",
     "output_type": "stream",
     "text": [
      "Downloading: \"https://download.pytorch.org/models/alexnet-owt-4df8aa71.pth\" to /home/ay6gv/.torch/models/alexnet-owt-4df8aa71.pth\n",
      "244418560.0 bytes\n"
     ]
    }
   ],
   "source": [
    "import torchvision.models as models\n",
    "\n",
    "cnn_model = models.alexnet(pretrained = True) # no pretraining\n",
    "# Feel free to replace the classification layer differently than this.\n",
    "# See: https://github.com/pytorch/vision/blob/master/torchvision/models/alexnet.py\n",
    "# cnn_model.classifier = nn.Linear(9216, 67) # replace classification layer.\n",
    "\n",
    "cnn_model.classifier = nn.Sequential(\n",
    "    nn.Dropout(),\n",
    "    nn.Linear(9216, 4096),\n",
    "    nn.ReLU(inplace=True),\n",
    "    nn.Dropout(),\n",
    "    nn.Linear(4096, 4096),\n",
    "    nn.ReLU(inplace=True),\n",
    "    nn.Linear(4096, 67),\n",
    ")\n",
    "cnn_model.eval();"
   ]
  },
  {
   "cell_type": "markdown",
   "metadata": {
    "colab_type": "text",
    "id": "KjmoySEOw714"
   },
   "source": [
    "Write your code below, feel free to either modify or just use the train_model function defined earlier in this notebook. The above cell allocates a lot of memory so it is better to write the training code in the cell below."
   ]
  },
  {
   "cell_type": "code",
   "execution_count": 14,
   "metadata": {
    "colab": {},
    "colab_type": "code",
    "id": "JKCKi4uoNPv2"
   },
   "outputs": [],
   "source": [
    "def train_model(model, loss_fn, batchSize, trainset, valset, optimizer, epochs=5):\n",
    "  \n",
    "  # Shuffling is needed in case dataset is not shuffled by default.\n",
    "  train_loader = torch.utils.data.DataLoader(dataset = trainset,\n",
    "                                              batch_size = batchSize,\n",
    "                                              shuffle = True)\n",
    "  # We don't need to bach the validation set but let's do it anyway.\n",
    "  val_loader = torch.utils.data.DataLoader(dataset = valset,\n",
    "                                            batch_size = batchSize,\n",
    "                                            shuffle = False) # No need.\n",
    "\n",
    "  # log accuracies and losses.\n",
    "  train_accuracies = []; val_accuracies = []\n",
    "  train_losses = []; val_losses = []\n",
    "\n",
    "  model = model.cuda()\n",
    "  loss_fn = loss_fn.cuda()\n",
    "  \n",
    "  # Training loop. Please make sure you understand every single line of code below.\n",
    "  # Go back to some of the previous steps in this lab if necessary.\n",
    "  for epoch in range(0, epochs):\n",
    "      correct = 0.0\n",
    "      cum_loss = 0.0\n",
    "\n",
    "      # Make a pass over the training data.\n",
    "      model.train()\n",
    "      for (i, (inputs, labels)) in enumerate(train_loader):\n",
    "          inputs = inputs.cuda()\n",
    "          labels = labels.cuda()\n",
    "\n",
    "          # Forward pass. (Prediction stage)\n",
    "          scores = model(inputs)\n",
    "          loss = loss_fn(scores, labels)\n",
    "\n",
    "          # Count how many correct in this batch.\n",
    "          max_scores, max_labels = scores.max(1)\n",
    "          correct += (max_labels == labels).sum().item()\n",
    "          cum_loss += loss.item()\n",
    "\n",
    "          # Zero the gradients in the network.\n",
    "          optimizer.zero_grad()\n",
    "\n",
    "          #Backward pass. (Gradient computation stage)\n",
    "          loss.backward()\n",
    "\n",
    "          # Parameter updates (SGD step) -- if done with torch.optim!\n",
    "          optimizer.step()\n",
    "\n",
    "          # Parameter updates (SGD step) -- if done manually!\n",
    "          # for param in model.parameters():\n",
    "          #   param.data.add_(-learningRate, param.grad)\n",
    "\n",
    "          # Logging the current results on training.\n",
    "          if (i + 1) % 200 == 0:\n",
    "              print('Train-epoch %d. Iteration %05d, Avg-Loss: %.4f, Accuracy: %.4f' % \n",
    "                    (epoch, i + 1, cum_loss / (i + 1), correct / ((i + 1) * batchSize)))\n",
    "\n",
    "      train_accuracies.append(correct / len(trainset))\n",
    "      train_losses.append(cum_loss / (i + 1))   \n",
    "\n",
    "      # Make a pass over the validation data.\n",
    "      correct = 0.0\n",
    "      cum_loss = 0.0\n",
    "      model.eval()\n",
    "      for (i, (inputs, labels)) in enumerate(val_loader):\n",
    "          inputs = inputs.cuda()\n",
    "          labels = labels.cuda()\n",
    "\n",
    "          # Forward pass. (Prediction stage)\n",
    "          scores = model(inputs)\n",
    "          cum_loss += loss_fn(scores, labels).item()\n",
    "\n",
    "           # Count how many correct in this batch.\n",
    "          max_scores, max_labels = scores.max(1)\n",
    "          correct += (max_labels == labels).sum().item()\n",
    "\n",
    "      val_accuracies.append(correct / len(valset))\n",
    "      val_losses.append(cum_loss / (i + 1))\n",
    "\n",
    "      # Logging the current results on validation.\n",
    "      print('Validation-epoch %d. Avg-Loss: %.4f, Accuracy: %.4f' % \n",
    "            (epoch, cum_loss / (i + 1), correct / len(valset)))\n",
    "      \n",
    "  \n",
    "  plt.figure(figsize = (10, 4))\n",
    "  plt.subplot(1, 2, 1)\n",
    "  plt.plot(val_losses, 'bo-', label = 'val-loss')\n",
    "  plt.plot(train_losses, 'ro-', label = 'train-loss')\n",
    "  plt.ylabel('loss')\n",
    "  plt.xlabel('epoch')\n",
    "  plt.legend(['validation', 'training'], loc='upper right')\n",
    "  \n",
    "  plt.subplot(1, 2, 2)\n",
    "  plt.plot(val_accuracies, 'bo-', label = 'val-acc')\n",
    "  plt.plot(train_accuracies, 'ro-', label = 'train-acc')\n",
    "  plt.ylabel('accuracy')\n",
    "  plt.xlabel('epoch')\n",
    "  plt.legend(['validation', 'training'], loc='lower right')\n",
    "  \n",
    "  plt.show()"
   ]
  },
  {
   "cell_type": "code",
   "execution_count": 15,
   "metadata": {
    "colab": {
     "base_uri": "https://localhost:8080/",
     "height": 1554
    },
    "colab_type": "code",
    "id": "1LeIDSn0o2ns",
    "outputId": "9214fddc-7bc6-4b65-ed9d-09dcdaaab0da"
   },
   "outputs": [
    {
     "name": "stdout",
     "output_type": "stream",
     "text": [
      "Train-epoch 0. Iteration 00200, Avg-Loss: 3.8792, Accuracy: 0.0816\n",
      "Train-epoch 0. Iteration 00400, Avg-Loss: 3.7000, Accuracy: 0.1277\n",
      "Train-epoch 0. Iteration 00600, Avg-Loss: 3.5011, Accuracy: 0.1725\n",
      "Train-epoch 0. Iteration 00800, Avg-Loss: 3.3241, Accuracy: 0.2053\n",
      "Validation-epoch 0. Avg-Loss: 3.2019, Accuracy: 0.2022\n",
      "Train-epoch 1. Iteration 00200, Avg-Loss: 2.4727, Accuracy: 0.3609\n",
      "Train-epoch 1. Iteration 00400, Avg-Loss: 2.4071, Accuracy: 0.3755\n",
      "Train-epoch 1. Iteration 00600, Avg-Loss: 2.3476, Accuracy: 0.3904\n",
      "Train-epoch 1. Iteration 00800, Avg-Loss: 2.2986, Accuracy: 0.4010\n",
      "Validation-epoch 1. Avg-Loss: 2.5007, Accuracy: 0.3366\n",
      "Train-epoch 2. Iteration 00200, Avg-Loss: 1.9397, Accuracy: 0.4797\n",
      "Train-epoch 2. Iteration 00400, Avg-Loss: 1.9458, Accuracy: 0.4756\n",
      "Train-epoch 2. Iteration 00600, Avg-Loss: 1.9523, Accuracy: 0.4718\n",
      "Train-epoch 2. Iteration 00800, Avg-Loss: 1.9335, Accuracy: 0.4749\n",
      "Validation-epoch 2. Avg-Loss: 2.1782, Accuracy: 0.4104\n",
      "Train-epoch 3. Iteration 00200, Avg-Loss: 1.7178, Accuracy: 0.5337\n",
      "Train-epoch 3. Iteration 00400, Avg-Loss: 1.7296, Accuracy: 0.5247\n",
      "Train-epoch 3. Iteration 00600, Avg-Loss: 1.7227, Accuracy: 0.5238\n",
      "Train-epoch 3. Iteration 00800, Avg-Loss: 1.7026, Accuracy: 0.5268\n",
      "Validation-epoch 3. Avg-Loss: 1.9424, Accuracy: 0.4627\n",
      "Train-epoch 4. Iteration 00200, Avg-Loss: 1.6016, Accuracy: 0.5475\n",
      "Train-epoch 4. Iteration 00400, Avg-Loss: 1.5954, Accuracy: 0.5472\n",
      "Train-epoch 4. Iteration 00600, Avg-Loss: 1.5786, Accuracy: 0.5532\n",
      "Train-epoch 4. Iteration 00800, Avg-Loss: 1.5707, Accuracy: 0.5572\n",
      "Validation-epoch 4. Avg-Loss: 1.8475, Accuracy: 0.4821\n",
      "Train-epoch 5. Iteration 00200, Avg-Loss: 1.4289, Accuracy: 0.5903\n",
      "Train-epoch 5. Iteration 00400, Avg-Loss: 1.4371, Accuracy: 0.5884\n",
      "Train-epoch 5. Iteration 00600, Avg-Loss: 1.4401, Accuracy: 0.5869\n",
      "Train-epoch 5. Iteration 00800, Avg-Loss: 1.4442, Accuracy: 0.5867\n",
      "Validation-epoch 5. Avg-Loss: 1.8269, Accuracy: 0.4955\n",
      "Train-epoch 6. Iteration 00200, Avg-Loss: 1.3899, Accuracy: 0.6053\n",
      "Train-epoch 6. Iteration 00400, Avg-Loss: 1.3628, Accuracy: 0.6173\n",
      "Train-epoch 6. Iteration 00600, Avg-Loss: 1.3709, Accuracy: 0.6144\n",
      "Train-epoch 6. Iteration 00800, Avg-Loss: 1.3659, Accuracy: 0.6128\n",
      "Validation-epoch 6. Avg-Loss: 1.6873, Accuracy: 0.5216\n",
      "Train-epoch 7. Iteration 00200, Avg-Loss: 1.2918, Accuracy: 0.6316\n",
      "Train-epoch 7. Iteration 00400, Avg-Loss: 1.2795, Accuracy: 0.6297\n",
      "Train-epoch 7. Iteration 00600, Avg-Loss: 1.2796, Accuracy: 0.6259\n",
      "Train-epoch 7. Iteration 00800, Avg-Loss: 1.2768, Accuracy: 0.6273\n",
      "Validation-epoch 7. Avg-Loss: 1.6201, Accuracy: 0.5485\n",
      "Train-epoch 8. Iteration 00200, Avg-Loss: 1.2081, Accuracy: 0.6491\n",
      "Train-epoch 8. Iteration 00400, Avg-Loss: 1.2128, Accuracy: 0.6447\n",
      "Train-epoch 8. Iteration 00600, Avg-Loss: 1.2022, Accuracy: 0.6488\n",
      "Train-epoch 8. Iteration 00800, Avg-Loss: 1.2097, Accuracy: 0.6498\n",
      "Validation-epoch 8. Avg-Loss: 1.6096, Accuracy: 0.5634\n",
      "Train-epoch 9. Iteration 00200, Avg-Loss: 1.1567, Accuracy: 0.6619\n",
      "Train-epoch 9. Iteration 00400, Avg-Loss: 1.1628, Accuracy: 0.6602\n",
      "Train-epoch 9. Iteration 00600, Avg-Loss: 1.1635, Accuracy: 0.6581\n",
      "Train-epoch 9. Iteration 00800, Avg-Loss: 1.1512, Accuracy: 0.6625\n",
      "Validation-epoch 9. Avg-Loss: 1.5374, Accuracy: 0.5672\n",
      "Train-epoch 10. Iteration 00200, Avg-Loss: 1.0731, Accuracy: 0.6803\n",
      "Train-epoch 10. Iteration 00400, Avg-Loss: 1.0646, Accuracy: 0.6881\n",
      "Train-epoch 10. Iteration 00600, Avg-Loss: 1.0658, Accuracy: 0.6890\n",
      "Train-epoch 10. Iteration 00800, Avg-Loss: 1.0794, Accuracy: 0.6849\n",
      "Validation-epoch 10. Avg-Loss: 1.5415, Accuracy: 0.5731\n",
      "Train-epoch 11. Iteration 00200, Avg-Loss: 0.9981, Accuracy: 0.6934\n",
      "Train-epoch 11. Iteration 00400, Avg-Loss: 1.0367, Accuracy: 0.6889\n",
      "Train-epoch 11. Iteration 00600, Avg-Loss: 1.0451, Accuracy: 0.6869\n",
      "Train-epoch 11. Iteration 00800, Avg-Loss: 1.0398, Accuracy: 0.6886\n",
      "Validation-epoch 11. Avg-Loss: 1.5581, Accuracy: 0.5649\n",
      "Train-epoch 12. Iteration 00200, Avg-Loss: 0.9707, Accuracy: 0.7053\n",
      "Train-epoch 12. Iteration 00400, Avg-Loss: 0.9852, Accuracy: 0.7013\n",
      "Train-epoch 12. Iteration 00600, Avg-Loss: 0.9931, Accuracy: 0.7010\n",
      "Train-epoch 12. Iteration 00800, Avg-Loss: 0.9900, Accuracy: 0.7010\n",
      "Validation-epoch 12. Avg-Loss: 1.5485, Accuracy: 0.5776\n",
      "Train-epoch 13. Iteration 00200, Avg-Loss: 0.8993, Accuracy: 0.7209\n",
      "Train-epoch 13. Iteration 00400, Avg-Loss: 0.9074, Accuracy: 0.7250\n",
      "Train-epoch 13. Iteration 00600, Avg-Loss: 0.9296, Accuracy: 0.7186\n",
      "Train-epoch 13. Iteration 00800, Avg-Loss: 0.9465, Accuracy: 0.7131\n",
      "Validation-epoch 13. Avg-Loss: 1.4959, Accuracy: 0.5866\n",
      "Train-epoch 14. Iteration 00200, Avg-Loss: 0.8720, Accuracy: 0.7284\n",
      "Train-epoch 14. Iteration 00400, Avg-Loss: 0.8975, Accuracy: 0.7244\n",
      "Train-epoch 14. Iteration 00600, Avg-Loss: 0.8979, Accuracy: 0.7283\n",
      "Train-epoch 14. Iteration 00800, Avg-Loss: 0.9013, Accuracy: 0.7271\n",
      "Validation-epoch 14. Avg-Loss: 1.5301, Accuracy: 0.5769\n"
     ]
    },
    {
     "data": {
      "image/png": "[encoded data removed]",
      "text/plain": [
       "<Figure size 720x288 with 2 Axes>"
      ]
     },
     "metadata": {},
     "output_type": "display_data"
    }
   ],
   "source": [
    "# Your training code.\n",
    "# Pytorch DataLoader for iterating over batches.\n",
    "batchSize = 16\n",
    "\n",
    "# Create the model.\n",
    "loss_fn = nn.CrossEntropyLoss()\n",
    "\n",
    "# Define a learning rate. \n",
    "learning_rate = 5e-4\n",
    "\n",
    "  \n",
    "# Optimizer.\n",
    "optimizer = optim.SGD(cnn_model.parameters(), lr=learning_rate, momentum=0.7, weight_decay=5e-5)\n",
    "\n",
    "train_model(cnn_model, loss_fn, batchSize, train_dataset, val_dataset, optimizer, epochs=15)"
   ]
  },
  {
   "cell_type": "markdown",
   "metadata": {
    "colab_type": "text",
    "id": "PwOeGHEVlkne"
   },
   "source": [
    "### 2. Deep Features [3pts]:\n",
    "Fine-tuning the Inception_v3 network would take a lot of GPU memory and computing time. Another alternative to use a pretrained network is to just use it as a source of features. The idea is to use an intermediate ouput of a pre-trained network to convert images into vectors. Typically the output vector in the layer before the final predictions is used for this purpose. Once the images in both the training set are converted into vectors, we can try a linear + softmax classifier or any other shallow classifier. Try using either the pretrained Inception_v3 network or the pretrained Resnet50 network for this purpose, and train a classifier based on these \"deep features\". For this part it is sufficient if you report your final validation accuracy."
   ]
  },
  {
   "cell_type": "code",
   "execution_count": 16,
   "metadata": {
    "colab": {
     "base_uri": "https://localhost:8080/",
     "height": 215
    },
    "colab_type": "code",
    "id": "NMhIaABAlfGA",
    "outputId": "3beb3798-8fa1-42c1-a9b0-2f485bd5c17b"
   },
   "outputs": [
    {
     "name": "stderr",
     "output_type": "stream",
     "text": [
      "Downloading: \"https://download.pytorch.org/models/resnet50-19c8e357.pth\" to /home/ay6gv/.torch/models/resnet50-19c8e357.pth\n",
      "102502400.0 bytes\n"
     ]
    }
   ],
   "source": [
    "# Your code for pre-computing the deep features goes here.\n",
    "from torch import nn\n",
    "import torchvision.models as models\n",
    "from torch.utils.data import TensorDataset\n",
    "\n",
    "resnet50 = models.resnet50(pretrained = True)\n",
    "\n",
    "class DummyLayer(nn.Module):\n",
    "  def forward(self, inputs):\n",
    "    return inputs\n",
    "\n",
    "# replace last classifier to dummy returnning the input\n",
    "resnet50.fc = DummyLayer()\n",
    "\n",
    "for p in resnet50.parameters():\n",
    "  p.requires_grad = False\n",
    "\n",
    "def build_deep_features(feature_model, dataset):\n",
    "  feature_model = feature_model.cuda()\n",
    "  \n",
    "  data_loader = torch.utils.data.DataLoader(dataset = dataset,\n",
    "                                              batch_size = 100,\n",
    "                                              shuffle = False)\n",
    "  \n",
    "  outputs_vectors = []\n",
    "  outputs_labels = []\n",
    "    \n",
    "  feature_model.eval()\n",
    "  for (i, (inputs, labels)) in enumerate(data_loader):\n",
    "    inputs = inputs.cuda()\n",
    "    \n",
    "    outputs = feature_model(inputs)\n",
    "    \n",
    "    outputs_vectors.append(outputs.cpu())\n",
    "    outputs_labels.append(labels)\n",
    "    \n",
    "  outputs_vectors = torch.cat(outputs_vectors)  \n",
    "  outputs_labels = torch.cat(outputs_labels)\n",
    "  \n",
    "  return TensorDataset(outputs_vectors, outputs_labels)\n",
    "\n",
    "df_train_dataset = build_deep_features(resnet50, train_dataset)\n",
    "df_val_dataset = build_deep_features(resnet50, val_dataset)"
   ]
  },
  {
   "cell_type": "code",
   "execution_count": 17,
   "metadata": {
    "colab": {
     "base_uri": "https://localhost:8080/",
     "height": 2404
    },
    "colab_type": "code",
    "id": "cA2NI39ll9pN",
    "outputId": "04c5c006-555e-4f09-9bc8-3fcdc740141e"
   },
   "outputs": [
    {
     "name": "stdout",
     "output_type": "stream",
     "text": [
      "Train-epoch 0. Iteration 00200, Avg-Loss: 3.9097, Accuracy: 0.0900\n",
      "Train-epoch 0. Iteration 00400, Avg-Loss: 3.7791, Accuracy: 0.1436\n",
      "Train-epoch 0. Iteration 00600, Avg-Loss: 3.6593, Accuracy: 0.1889\n",
      "Train-epoch 0. Iteration 00800, Avg-Loss: 3.5452, Accuracy: 0.2226\n",
      "Validation-epoch 0. Avg-Loss: 3.8818, Accuracy: 0.1597\n",
      "Train-epoch 1. Iteration 00200, Avg-Loss: 2.9939, Accuracy: 0.3606\n",
      "Train-epoch 1. Iteration 00400, Avg-Loss: 2.9097, Accuracy: 0.3742\n",
      "Train-epoch 1. Iteration 00600, Avg-Loss: 2.8143, Accuracy: 0.3908\n",
      "Train-epoch 1. Iteration 00800, Avg-Loss: 2.7295, Accuracy: 0.4062\n",
      "Validation-epoch 1. Avg-Loss: 3.2413, Accuracy: 0.2388\n",
      "Train-epoch 2. Iteration 00200, Avg-Loss: 2.3926, Accuracy: 0.4553\n",
      "Train-epoch 2. Iteration 00400, Avg-Loss: 2.3149, Accuracy: 0.4659\n",
      "Train-epoch 2. Iteration 00600, Avg-Loss: 2.2615, Accuracy: 0.4756\n",
      "Train-epoch 2. Iteration 00800, Avg-Loss: 2.2146, Accuracy: 0.4801\n",
      "Validation-epoch 2. Avg-Loss: 2.7607, Accuracy: 0.3127\n",
      "Train-epoch 3. Iteration 00200, Avg-Loss: 1.9741, Accuracy: 0.5206\n",
      "Train-epoch 3. Iteration 00400, Avg-Loss: 1.9415, Accuracy: 0.5266\n",
      "Train-epoch 3. Iteration 00600, Avg-Loss: 1.9190, Accuracy: 0.5297\n",
      "Train-epoch 3. Iteration 00800, Avg-Loss: 1.8887, Accuracy: 0.5337\n",
      "Validation-epoch 3. Avg-Loss: 2.4135, Accuracy: 0.3545\n",
      "Train-epoch 4. Iteration 00200, Avg-Loss: 1.7413, Accuracy: 0.5606\n",
      "Train-epoch 4. Iteration 00400, Avg-Loss: 1.6896, Accuracy: 0.5711\n",
      "Train-epoch 4. Iteration 00600, Avg-Loss: 1.6932, Accuracy: 0.5673\n",
      "Train-epoch 4. Iteration 00800, Avg-Loss: 1.6741, Accuracy: 0.5709\n",
      "Validation-epoch 4. Avg-Loss: 2.1472, Accuracy: 0.3970\n",
      "Train-epoch 5. Iteration 00200, Avg-Loss: 1.5905, Accuracy: 0.5841\n",
      "Train-epoch 5. Iteration 00400, Avg-Loss: 1.5710, Accuracy: 0.5891\n",
      "Train-epoch 5. Iteration 00600, Avg-Loss: 1.5435, Accuracy: 0.5939\n",
      "Train-epoch 5. Iteration 00800, Avg-Loss: 1.5341, Accuracy: 0.5945\n",
      "Validation-epoch 5. Avg-Loss: 1.9337, Accuracy: 0.4552\n",
      "Train-epoch 6. Iteration 00200, Avg-Loss: 1.4464, Accuracy: 0.6166\n",
      "Train-epoch 6. Iteration 00400, Avg-Loss: 1.4602, Accuracy: 0.6127\n",
      "Train-epoch 6. Iteration 00600, Avg-Loss: 1.4344, Accuracy: 0.6173\n",
      "Train-epoch 6. Iteration 00800, Avg-Loss: 1.4257, Accuracy: 0.6185\n",
      "Validation-epoch 6. Avg-Loss: 1.8040, Accuracy: 0.4649\n",
      "Train-epoch 7. Iteration 00200, Avg-Loss: 1.3575, Accuracy: 0.6312\n",
      "Train-epoch 7. Iteration 00400, Avg-Loss: 1.3545, Accuracy: 0.6362\n",
      "Train-epoch 7. Iteration 00600, Avg-Loss: 1.3600, Accuracy: 0.6292\n",
      "Train-epoch 7. Iteration 00800, Avg-Loss: 1.3485, Accuracy: 0.6348\n",
      "Validation-epoch 7. Avg-Loss: 1.6882, Accuracy: 0.5015\n",
      "Train-epoch 8. Iteration 00200, Avg-Loss: 1.3169, Accuracy: 0.6306\n",
      "Train-epoch 8. Iteration 00400, Avg-Loss: 1.3156, Accuracy: 0.6330\n",
      "Train-epoch 8. Iteration 00600, Avg-Loss: 1.2953, Accuracy: 0.6403\n",
      "Train-epoch 8. Iteration 00800, Avg-Loss: 1.2890, Accuracy: 0.6418\n",
      "Validation-epoch 8. Avg-Loss: 1.5949, Accuracy: 0.5351\n",
      "Train-epoch 9. Iteration 00200, Avg-Loss: 1.2373, Accuracy: 0.6616\n",
      "Train-epoch 9. Iteration 00400, Avg-Loss: 1.2320, Accuracy: 0.6591\n",
      "Train-epoch 9. Iteration 00600, Avg-Loss: 1.2336, Accuracy: 0.6581\n",
      "Train-epoch 9. Iteration 00800, Avg-Loss: 1.2355, Accuracy: 0.6551\n",
      "Validation-epoch 9. Avg-Loss: 1.4959, Accuracy: 0.5575\n",
      "Train-epoch 10. Iteration 00200, Avg-Loss: 1.2021, Accuracy: 0.6666\n",
      "Train-epoch 10. Iteration 00400, Avg-Loss: 1.2036, Accuracy: 0.6692\n",
      "Train-epoch 10. Iteration 00600, Avg-Loss: 1.1926, Accuracy: 0.6658\n",
      "Train-epoch 10. Iteration 00800, Avg-Loss: 1.1915, Accuracy: 0.6670\n",
      "Validation-epoch 10. Avg-Loss: 1.4955, Accuracy: 0.5560\n",
      "Train-epoch 11. Iteration 00200, Avg-Loss: 1.2149, Accuracy: 0.6509\n",
      "Train-epoch 11. Iteration 00400, Avg-Loss: 1.1861, Accuracy: 0.6636\n",
      "Train-epoch 11. Iteration 00600, Avg-Loss: 1.1712, Accuracy: 0.6677\n",
      "Train-epoch 11. Iteration 00800, Avg-Loss: 1.1584, Accuracy: 0.6705\n",
      "Validation-epoch 11. Avg-Loss: 1.4413, Accuracy: 0.5716\n",
      "Train-epoch 12. Iteration 00200, Avg-Loss: 1.1330, Accuracy: 0.6766\n",
      "Train-epoch 12. Iteration 00400, Avg-Loss: 1.1328, Accuracy: 0.6787\n",
      "Train-epoch 12. Iteration 00600, Avg-Loss: 1.1315, Accuracy: 0.6800\n",
      "Train-epoch 12. Iteration 00800, Avg-Loss: 1.1308, Accuracy: 0.6803\n",
      "Validation-epoch 12. Avg-Loss: 1.4107, Accuracy: 0.5649\n",
      "Train-epoch 13. Iteration 00200, Avg-Loss: 1.0831, Accuracy: 0.6928\n",
      "Train-epoch 13. Iteration 00400, Avg-Loss: 1.0905, Accuracy: 0.6875\n",
      "Train-epoch 13. Iteration 00600, Avg-Loss: 1.1019, Accuracy: 0.6843\n",
      "Train-epoch 13. Iteration 00800, Avg-Loss: 1.1049, Accuracy: 0.6830\n",
      "Validation-epoch 13. Avg-Loss: 1.3318, Accuracy: 0.6045\n",
      "Train-epoch 14. Iteration 00200, Avg-Loss: 1.0569, Accuracy: 0.6997\n",
      "Train-epoch 14. Iteration 00400, Avg-Loss: 1.0847, Accuracy: 0.6914\n",
      "Train-epoch 14. Iteration 00600, Avg-Loss: 1.0779, Accuracy: 0.6920\n",
      "Train-epoch 14. Iteration 00800, Avg-Loss: 1.0789, Accuracy: 0.6893\n",
      "Validation-epoch 14. Avg-Loss: 1.3637, Accuracy: 0.5918\n"
     ]
    },
    {
     "data": {
      "image/png": "[encoded data removed]",
      "text/plain": [
       "<Figure size 720x288 with 2 Axes>"
      ]
     },
     "metadata": {},
     "output_type": "display_data"
    }
   ],
   "source": [
    "# Your code for training your shallow classifier goes here.\n",
    "from torch import optim\n",
    "\n",
    "classifier = nn.Sequential(\n",
    "  nn.Dropout(),\n",
    "  nn.Linear(2048, 2048),\n",
    "  nn.ReLU(inplace=True),\n",
    "  nn.Linear(2048, 67),\n",
    ")\n",
    "    \n",
    "# Pytorch DataLoader for iterating over batches.\n",
    "batchSize = 16\n",
    "\n",
    "# Create the model.\n",
    "loss_fn = nn.CrossEntropyLoss()\n",
    "\n",
    "# Define a learning rate. \n",
    "learning_rate = 6e-4\n",
    "  \n",
    "# Optimizer.\n",
    "optimizer = optim.SGD(classifier.parameters(), lr=learning_rate, momentum=0.7, weight_decay=5e-5)\n",
    "\n",
    "train_model(classifier, loss_fn, batchSize, df_train_dataset, df_val_dataset, optimizer, epochs=15)"
   ]
  },
  {
   "cell_type": "markdown",
   "metadata": {
    "colab_type": "text",
    "id": "i8ag6y3FyDng"
   },
   "source": [
    "### 3. Batch-Normalization + Max-Pool Removal [2pts]. \n",
    "Below is the implementation of Alexnet included in pytorch, after this network was released in NeurIPS 2012, several other ideas regarding individual layers were introduced to make models better. In this section, modify the code of Alexnet so that it uses BatchNormalization layers (Ioffe and Szegedy https://arxiv.org/abs/1502.03167) after each convolutional layer. You don't need to implement a BatchNorm layer, just use the one included in Pytorch. In another network such as the VGG Network (https://arxiv.org/abs/1409.1556), it was shown that one does not need to use max-pooling layers after all convolutional layers, remove all the max-pooling layers of Alexnet so that this is still a valid network. **Note: **You don't need to train this model."
   ]
  },
  {
   "cell_type": "code",
   "execution_count": 18,
   "metadata": {
    "colab": {},
    "colab_type": "code",
    "id": "cuL-gZ_EyCjv"
   },
   "outputs": [
    {
     "name": "stdout",
     "output_type": "stream",
     "text": [
      "input_batch.shape: torch.Size([1, 3, 224, 224])\n",
      "scores.shape: torch.Size([1, 1000])\n"
     ]
    }
   ],
   "source": [
    "import torch\n",
    "from torch import nn\n",
    "\n",
    "class AlexNet(nn.Module):\n",
    "\n",
    "    def __init__(self, num_classes=1000):\n",
    "        super(AlexNet, self).__init__()\n",
    "        self.features = nn.Sequential(\n",
    "            nn.Conv2d(3, 64, kernel_size=11, stride=4, padding=2),\n",
    "            nn.BatchNorm2d(64),\n",
    "            nn.ReLU(inplace=True),\n",
    "            \n",
    "            nn.Conv2d(64, 192, kernel_size=5, padding=2),\n",
    "            nn.BatchNorm2d(192),\n",
    "            nn.ReLU(inplace=True),\n",
    "            \n",
    "            nn.Conv2d(192, 384, kernel_size=3, padding=1),\n",
    "            nn.BatchNorm2d(384),\n",
    "            nn.ReLU(inplace=True),\n",
    "            \n",
    "            nn.Conv2d(384, 256, kernel_size=3, padding=1),\n",
    "            nn.BatchNorm2d(256),\n",
    "            nn.ReLU(inplace=True),\n",
    "            \n",
    "            nn.Conv2d(256, 256, kernel_size=3, padding=1),\n",
    "            nn.BatchNorm2d(256),\n",
    "            nn.ReLU(inplace=True),\n",
    "        )\n",
    "        self.classifier = nn.Sequential(\n",
    "            nn.Dropout(),\n",
    "            nn.Linear(256 * 55 * 55, 4096),\n",
    "            nn.ReLU(inplace=True),\n",
    "            nn.Dropout(),\n",
    "            nn.Linear(4096, 4096),\n",
    "            nn.ReLU(inplace=True),\n",
    "            nn.Linear(4096, num_classes),\n",
    "        )\n",
    "\n",
    "    def forward(self, x):\n",
    "        x = self.features(x)\n",
    "        x = x.view(x.size(0), 256 * 55 * 55)\n",
    "        x = self.classifier(x)\n",
    "        return x\n",
    "\n",
    "# TEST: This should still work after the two required modifications.\n",
    "# The output should be a tensor of size batchSize x numPredictions\n",
    "mock_input_batch = torch.zeros(1, 3, 224, 224).normal_(0, 0.01)\n",
    "\n",
    "alexnet = AlexNet()\n",
    "alexnet.eval()\n",
    "\n",
    "print('input_batch.shape:', mock_input_batch.shape)\n",
    "scores = alexnet(mock_input_batch)\n",
    "print('scores.shape:', scores.shape)"
   ]
  },
  {
   "cell_type": "markdown",
   "metadata": {
    "colab_type": "text",
    "id": "VSJR-cOqz8VQ"
   },
   "source": [
    "### 4. Skip-Connections (Residuals) + Inception Layers [2pts]. \n",
    "Below is the implementation of Alexnet included in pytorch, after this network was released in NeurIPS 2012, several other ideas regarding architectural changes were introduced to make models better. Modify the code of AlexNet below so that it has a skip connection between the third and fifth convolutional layer (see ResNet by He et al https://arxiv.org/abs/1512.03385 ). Additionally, replace the second convolutional layer with an Inception Layer that has three branches, each using filters of different size (see Inception_v3 by Szegedy et al https://arxiv.org/abs/1512.00567 ). **Note: **You don't need to train this model."
   ]
  },
  {
   "cell_type": "code",
   "execution_count": 19,
   "metadata": {
    "colab": {
     "base_uri": "https://localhost:8080/",
     "height": 52
    },
    "colab_type": "code",
    "id": "cEVon138y4Zo",
    "outputId": "10a0750a-5bd8-43ca-ba63-8953d0320d4c"
   },
   "outputs": [
    {
     "name": "stdout",
     "output_type": "stream",
     "text": [
      "input_batch.shape: torch.Size([10, 3, 224, 224])\n",
      "scores.shape: torch.Size([10, 1000])\n"
     ]
    }
   ],
   "source": [
    "import torch\n",
    "from torch import nn\n",
    "      \n",
    "class InceptionBranches(nn.Module):\n",
    "\n",
    "    def __init__(self, in_channels):\n",
    "        super(InceptionBranches, self).__init__()\n",
    "        self.branch1x1 = nn.Conv2d(in_channels, 64, kernel_size=1)\n",
    "\n",
    "        self.branch5x5_1 = nn.Conv2d(in_channels, 64, kernel_size=1)\n",
    "        self.branch5x5_2 = nn.Conv2d(64, 64, kernel_size=5, padding=2)\n",
    "\n",
    "        self.branch3x3dbl_1 = nn.Conv2d(in_channels, 64, kernel_size=1)\n",
    "        self.branch3x3dbl_2 = nn.Conv2d(64, 96, kernel_size=3, padding=1)\n",
    "        self.branch3x3dbl_3 = nn.Conv2d(96, 96, kernel_size=3, padding=1)\n",
    "\n",
    "    def forward(self, x):\n",
    "        branch1x1 = self.branch1x1(x)\n",
    "\n",
    "        branch5x5 = self.branch5x5_1(x)\n",
    "        branch5x5 = self.branch5x5_2(branch5x5)\n",
    "\n",
    "        branch3x3dbl = self.branch3x3dbl_1(x)\n",
    "        branch3x3dbl = self.branch3x3dbl_2(branch3x3dbl)\n",
    "        branch3x3dbl = self.branch3x3dbl_3(branch3x3dbl)\n",
    "\n",
    "        outputs = [branch1x1, branch5x5, branch3x3dbl]\n",
    "        return torch.cat(outputs, 1)\n",
    "      \n",
    "class AlexNet(nn.Module):\n",
    "\n",
    "    def __init__(self, num_classes=1000):\n",
    "        super(AlexNet, self).__init__()\n",
    "        \n",
    "        self.features_block_1 = nn.Sequential(\n",
    "            nn.Conv2d(3, 64, kernel_size=11, stride=4, padding=2),\n",
    "            nn.ReLU(inplace=True),\n",
    "            nn.MaxPool2d(kernel_size=3, stride=2),\n",
    "            \n",
    "            # nn.Conv2d(64, 192, kernel_size=5, padding=2),\n",
    "            InceptionBranches(64),\n",
    "            nn.ReLU(inplace=True),\n",
    "            nn.MaxPool2d(kernel_size=3, stride=2),\n",
    "            \n",
    "            nn.Conv2d(224, 384, kernel_size=3, padding=1),\n",
    "            nn.ReLU(inplace=True)\n",
    "        )\n",
    "        \n",
    "        self.features_block_2 = nn.Sequential(\n",
    "            nn.Conv2d(384, 384, kernel_size=3, padding=1),\n",
    "            nn.ReLU(inplace=True),\n",
    "        )\n",
    "            \n",
    "            \n",
    "        self.features_block_3 = nn.Sequential(    \n",
    "            nn.Conv2d(384, 256, kernel_size=3, padding=1),\n",
    "            nn.ReLU(inplace=True),\n",
    "            nn.MaxPool2d(kernel_size=3, stride=2),\n",
    "        )\n",
    "        \n",
    "        self.classifier = nn.Sequential(\n",
    "            nn.Dropout(),\n",
    "            nn.Linear(256 * 6 * 6, 4096),\n",
    "            nn.ReLU(inplace=True),\n",
    "            nn.Dropout(),\n",
    "            nn.Linear(4096, 4096),\n",
    "            nn.ReLU(inplace=True),\n",
    "            nn.Linear(4096, num_classes),\n",
    "        )\n",
    "\n",
    "    def forward(self, x):\n",
    "        x = self.features_block_1(x)\n",
    "        identity = x\n",
    "        x = self.features_block_2(x)\n",
    "        x = self.features_block_3(x + identity)\n",
    "        x = x.view(x.size(0), 256 * 6 * 6)\n",
    "        x = self.classifier(x)\n",
    "        return x\n",
    "\n",
    "# TEST: This should still work after the two required modifications.\n",
    "# The output should be a tensor of size batchSize x numPredictions\n",
    "mock_input_batch = torch.zeros(10, 3, 224, 224).normal_(0, 0.01)\n",
    "\n",
    "alexnet = AlexNet()\n",
    "alexnet.eval()\n",
    "\n",
    "print('input_batch.shape:', mock_input_batch.shape)\n",
    "scores = alexnet(mock_input_batch)\n",
    "print('scores.shape:', scores.shape)"
   ]
  }
 ],
 "metadata": {
  "accelerator": "GPU",
  "colab": {
   "collapsed_sections": [],
   "include_colab_link": true,
   "name": "convolutional_neural_networks_assignment.ipynb",
   "provenance": [],
   "version": "0.3.2"
  },
  "kernelspec": {
   "display_name": "PyTorch/Caffe2-0.8.0",
   "language": "python",
   "name": "pytorch_caffe"
  },
  "language_info": {
   "codemirror_mode": {
    "name": "ipython",
    "version": 3
   },
   "file_extension": ".py",
   "mimetype": "text/x-python",
   "name": "python",
   "nbconvert_exporter": "python",
   "pygments_lexer": "ipython3",
   "version": "3.6.8"
  }
 },
 "nbformat": 4,
 "nbformat_minor": 2
}
