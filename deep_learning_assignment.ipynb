{
  "nbformat": 4,
  "nbformat_minor": 0,
  "metadata": {
    "colab": {
      "name": "deep_learning_assignment.ipynb",
      "version": "0.3.2",
      "provenance": [],
      "collapsed_sections": [],
      "include_colab_link": true
    },
    "kernelspec": {
      "name": "python3",
      "display_name": "Python 3"
    }
  },
  "cells": [
    {
      "cell_type": "markdown",
      "metadata": {
        "id": "view-in-github",
        "colab_type": "text"
      },
      "source": [
        "<a href=\"https://colab.research.google.com/github/aobo-y/uva-cv/blob/master/deep_learning_assignment.ipynb\" target=\"_parent\"><img src=\"https://colab.research.google.com/assets/colab-badge.svg\" alt=\"Open In Colab\"/></a>"
      ]
    },
    {
      "metadata": {
        "id": "z-__RAO5t53G",
        "colab_type": "text"
      },
      "cell_type": "markdown",
      "source": [
        "## Deep Learning Basics\n",
        "\n",
        "In this tutorial we we will implement a toy deep learning framework, to rapidly create neural network models. It should have some flexibilty and will be implemented so that new modules can be added and replaced just like in modern deep learning frameworks. We will be implementing some types of basic layers. We will also explore pytorch's nn package and see how pytorch accomplishes this goal and what are the extras that pytorch offers.\n"
      ]
    },
    {
      "metadata": {
        "id": "Y5AUSc3jufKi",
        "colab_type": "text"
      },
      "cell_type": "markdown",
      "source": [
        "### 1. Cleaner mini-batch-capable Linear + Softmax classifier\n"
      ]
    },
    {
      "metadata": {
        "id": "Vby-ogCCxYwa",
        "colab_type": "text"
      },
      "cell_type": "markdown",
      "source": [
        "In the previous assignment, we provided a basic implementation of a linear softmax classifier. In this assignment we will use this as a starting point for our deep learning library. \n",
        "\n",
        "**Softmax + Negative Log-Likelihood:** First we will re-implement the (softmax + negative log likelihood loss) computation, and its gradient computation. But we will additionally support batches of inputs and labels. \n"
      ]
    },
    {
      "metadata": {
        "id": "j0JJRfD6ti7m",
        "colab_type": "code",
        "outputId": "fb39b36f-07ac-4226-d7f0-95f59a11dc2e",
        "colab": {
          "base_uri": "https://localhost:8080/",
          "height": 85
        }
      },
      "cell_type": "code",
      "source": [
        "import torch\n",
        "\n",
        "# This class combines Softmax + Negative-log likelihood loss.\n",
        "# Similar to the previous lab, but this implementation works for \n",
        "# batches of inputs and not just individual input vectors. \n",
        "# Here \"inputs\" is batchSize x sizePredictionScores, and\n",
        "#      \"labels\" is a vector of size batchSize.\n",
        "class toynn_CrossEntropyLoss(object): \n",
        "  \n",
        "    # Forward pass: -log softmax(input_{label})\n",
        "    def forward(self, scores, labels):\n",
        "      \n",
        "        # 1. Computing the softmax: exp(x) / sum (exp(x))\n",
        "        max_val = scores.max()  # This is to avoid variable overflows.\n",
        "        exp_inputs = (scores - max_val).exp()\n",
        "        # This is different than in the previous lab. Avoiding for loops here.\n",
        "        denominators = exp_inputs.sum(1).repeat(scores.size(1), 1).t()\n",
        "        self.predictions = torch.mul(exp_inputs, 1 / denominators)\n",
        "        \n",
        "        # 2. Computing the loss: -log(y_label).\n",
        "        # Check what gather does. Just avoiding another for loop here.\n",
        "        return -self.predictions.log().gather(1, labels.view(-1, 1)).mean()\n",
        "    \n",
        "    # Backward pass: y_hat - y\n",
        "    def backward(self, scores, labels):\n",
        "      \n",
        "        # Here we avoid computing softmax again in backward pass.\n",
        "        grad_inputs = self.predictions.clone()\n",
        "        \n",
        "        # Ok, Here we will use a for loop (but it is avoidable too).\n",
        "        for i in range(0, scores.size(0)):\n",
        "            grad_inputs[i][labels[i]] = grad_inputs[i][labels[i]] - 1\n",
        "            \n",
        "        return grad_inputs \n",
        "      \n",
        "      \n",
        "# Let's verify if the above seems to be Okay.\n",
        "batchSize = 32\n",
        "mock_scores = torch.zeros(batchSize, 10).normal_(0, 0.1)\n",
        "mock_labels = torch.zeros(batchSize, 1, dtype=torch.long).fill_(3)\n",
        "\n",
        "loss_fn = toynn_CrossEntropyLoss()\n",
        "\n",
        "loss = loss_fn.forward(mock_scores, mock_labels)\n",
        "mock_scores_grads = loss_fn.backward(mock_scores, mock_labels)\n",
        "\n",
        "print(\"Input predictions: \", mock_scores.shape)\n",
        "print(\"Input labels: \", mock_labels.shape)\n",
        "print(\"Output loss: \", loss.item())\n",
        "print(\"Input prediction gradients: \", mock_scores_grads.shape)"
      ],
      "execution_count": 56,
      "outputs": [
        {
          "output_type": "stream",
          "text": [
            "Input predictions:  torch.Size([32, 10])\n",
            "Input labels:  torch.Size([32, 1])\n",
            "Output loss:  2.307931661605835\n",
            "Input prediction gradients:  torch.Size([32, 10])\n"
          ],
          "name": "stdout"
        }
      ]
    },
    {
      "metadata": {
        "id": "-DfaJM7RWk_0",
        "colab_type": "text"
      },
      "cell_type": "markdown",
      "source": [
        "\n",
        "**Linear Transformation:**  Next, we will re-implement the linear transformation computation $y=Wx+b$, and its gradient computation. But we will additionally support batches of inputs and labels. Making a batched implementation of this layer is easier because the only change is that now we have matrix-matrix multiplications as opposed to vector-matrix multiplications. Additionally, we will support returning the gradients with respect to the inputs to the linear transformation ($\\partial \\ell / \\partial x_j$). Notice that in our previous assignment we were only concerned with computing $\\partial \\ell / \\partial w_{ij}$ and  $\\partial \\ell / \\partial b_i$ (gradients for the parameters)."
      ]
    },
    {
      "metadata": {
        "id": "2Lfp8zLNXVo_",
        "colab_type": "code",
        "outputId": "b935fa32-70db-4adc-b83c-2f44972131c7",
        "colab": {
          "base_uri": "https://localhost:8080/",
          "height": 102
        }
      },
      "cell_type": "code",
      "source": [
        "class toynn_Linear(object):\n",
        "    def __init__(self, numInputs, numOutputs):\n",
        "        # Allocate tensors for the weight and bias parameters.\n",
        "        self.weight = torch.Tensor(numInputs, numOutputs).normal_(0, 0.01)\n",
        "        self.weight_grads = torch.Tensor(numInputs, numOutputs)\n",
        "        self.bias = torch.Tensor(numOutputs).zero_()\n",
        "        self.bias_grads = torch.Tensor(numOutputs)\n",
        "    \n",
        "    # Forward pass, inputs is a matrix of size batchSize x numInputs.\n",
        "    # Notice that compared to the previous assignment, each input vector\n",
        "    # is a row in this matrix.\n",
        "    def forward(self, inputs):\n",
        "        # This one needs no change, it just becomes \n",
        "        # a matrix x matrix multiplication\n",
        "        # as opposed to just vector x matrix multiplication as we had before.\n",
        "        return torch.matmul(inputs, self.weight) + self.bias\n",
        "    \n",
        "    # Backward pass, in addition to compute gradients for the weight and bias.\n",
        "    # It has to compute gradients with respect to inputs. \n",
        "    def backward(self, inputs, scores_grads):\n",
        "        self.weight_grads = torch.matmul(inputs.t(), scores_grads)\n",
        "        self.bias_grads = scores_grads.sum(0)\n",
        "        return torch.matmul(scores_grads, self.weight.t())\n",
        "\n",
        "# Input: batchSize x numInputs.\n",
        "numInputs = 1 * 28 * 28\n",
        "mock_inputs = torch.Tensor(batchSize, numInputs).normal_(0, 0.1)\n",
        "\n",
        "# Create the linear object to use.\n",
        "linear = toynn_Linear(numInputs, 10)\n",
        "\n",
        "# Forward and Backward passes:\n",
        "scores = linear.forward(mock_inputs)\n",
        "mock_inputs_grads = linear.backward(mock_inputs, mock_scores_grads)\n",
        "\n",
        "print(\"Input x: \", mock_inputs.shape)\n",
        "print(\"Weights W: \", linear.weight.shape)\n",
        "print(\"Biases b: \", linear.bias.shape)\n",
        "print(\"Outputs: \", scores.shape)\n",
        "print(\"dL / dx: \", mock_inputs_grads.shape)"
      ],
      "execution_count": 57,
      "outputs": [
        {
          "output_type": "stream",
          "text": [
            "Input x:  torch.Size([32, 784])\n",
            "Weights W:  torch.Size([784, 10])\n",
            "Biases b:  torch.Size([10])\n",
            "Outputs:  torch.Size([32, 10])\n",
            "dL / dx:  torch.Size([32, 784])\n"
          ],
          "name": "stdout"
        }
      ]
    },
    {
      "metadata": {
        "id": "NNiPMoctZ5T_",
        "colab_type": "text"
      },
      "cell_type": "markdown",
      "source": [
        "We are finished with a cleaner implementation of the linear + softmax + negative log-likelihood classifier that we implemented for the previous assignment: (1) It supports batches,  (2) the functions for forward and backward are nicely packaged in a python class, (3) the weight and bias matrices (as well as weight_grad and bias_grad matrices) are nicely created and initialized in the constructor of the toynn_Linear class, (4) the Linear class also computes $\\partial \\ell / \\partial x_j$'s, which will be useful to stack layers in order to train deeper models."
      ]
    },
    {
      "metadata": {
        "id": "PGdZ-bmxb473",
        "colab_type": "text"
      },
      "cell_type": "markdown",
      "source": [
        "### 2. Mini-batch SGD on FashionMNIST\n"
      ]
    },
    {
      "metadata": {
        "id": "zUfYXo8McA14",
        "colab_type": "text"
      },
      "cell_type": "markdown",
      "source": [
        "Given the newly implemented toynn_CrossEntropyLoss and toynn_Linear classes, let's train a classifier which is exactly the same as in the previous assignment, but now we can use batches of examples, as opposed to single examples during training with Stochastic (mini-batch) Gradient Descent (SGD). There are a few changes to make to the code from the previous assignment"
      ]
    },
    {
      "metadata": {
        "id": "IJDmV7Xgb3RI",
        "colab_type": "code",
        "outputId": "c7e0d3e9-f50c-4e16-8e1c-32b6e78b4cbc",
        "colab": {
          "base_uri": "https://localhost:8080/",
          "height": 612
        }
      },
      "cell_type": "code",
      "source": [
        "import torchvision\n",
        "import torchvision.transforms as transforms\n",
        "from torchvision.datasets import FashionMNIST\n",
        "\n",
        "# Removes, the need to call F.to_image ourselves.\n",
        "# Also, please look up what transforms.Normalize does.\n",
        "transform = transforms.Compose([transforms.ToTensor(),\n",
        "                               transforms.Normalize((0.5, 0.5, 0.5), \n",
        "                                                    (0.5, 0.5, 0.5))])\n",
        "\n",
        "# Load the training, and validation datasets.\n",
        "trainset = FashionMNIST(root = './data', train = True, transform = transform, download = True)\n",
        "valset = FashionMNIST(root = './data', train = False, transform = transform, download = True)\n",
        "\n",
        "# NEW: Pytorch DataLoader for iterating over batches.\n",
        "batchSize = 100\n",
        "\n",
        "# Shuffling is needed in case dataset is not shuffled by default.\n",
        "train_loader = torch.utils.data.DataLoader(dataset = trainset,\n",
        "                                           batch_size = batchSize,\n",
        "                                           shuffle = True)\n",
        "# We don't need to bach the validation set but let's do it anyway.\n",
        "val_loader = torch.utils.data.DataLoader(dataset = valset,\n",
        "                                         batch_size = batchSize,\n",
        "                                         shuffle = False) # No need.\n",
        "\n",
        "# Define a learning rate. \n",
        "learningRate = 1e-4\n",
        "\n",
        "# Define number of epochs.\n",
        "N = 5\n",
        "\n",
        "# Create the model.\n",
        "loss_fn = toynn_CrossEntropyLoss()\n",
        "linear_fn = toynn_Linear(1 * 28 * 28, 10)\n",
        "\n",
        "\n",
        "# log accuracies and losses.\n",
        "train_accuracies = []; val_accuracies = []\n",
        "train_losses = []; val_losses = []\n",
        "\n",
        "# Training loop. Please make sure you understand every single line of code below.\n",
        "# Go back to some of the previous steps in this lab if necessary.\n",
        "for epoch in range(0, N):\n",
        "    correct = 0.0\n",
        "    cum_loss = 0.0\n",
        "    \n",
        "    # Make a pass over the training data.\n",
        "    for (i, (inputs, labels)) in enumerate(train_loader):\n",
        "        inputs = inputs.view(batchSize, 1 * 28 * 28)\n",
        "        \n",
        "        # Forward pass. (Prediction stage)\n",
        "        scores = linear_fn.forward(inputs)\n",
        "        cum_loss += loss_fn.forward(scores, labels).item()\n",
        "        \n",
        "        # Count how many correct in this batch.\n",
        "        max_scores, max_labels = scores.max(1)\n",
        "        correct += (max_labels == labels).sum().item()\n",
        "        \n",
        "        #Backward pass. (Gradient computation stage)\n",
        "        scores_grads = loss_fn.backward(scores, labels)\n",
        "        grad_inputs = linear_fn.backward(inputs, scores_grads)\n",
        "        \n",
        "        # Parameter updates (SGD step).\n",
        "        linear_fn.weight.add_(-learningRate, linear_fn.weight_grads)\n",
        "        linear_fn.bias.add_(-learningRate, linear_fn.bias_grads)\n",
        "        \n",
        "        # Logging the current results on training.\n",
        "        if (i + 1) % 100 == 0:\n",
        "            print('Train-epoch %d. Iteration %05d, Avg-Loss: %.4f, Accuracy: %.4f' % \n",
        "                  (epoch, i + 1, cum_loss / (i + 1), correct / ((i + 1) * batchSize)))\n",
        "    \n",
        "    train_accuracies.append(correct / len(trainset))\n",
        "    train_losses.append(cum_loss / len(trainset))\n",
        "    \n",
        "    \n",
        "    # Make a pass over the validation data.\n",
        "    correct = 0.0\n",
        "    cum_loss = 0.0\n",
        "    for (i, (inputs, labels)) in enumerate(val_loader):\n",
        "        inputs = inputs.view(batchSize, 1 * 28 * 28)\n",
        "        \n",
        "        # Forward pass. (Prediction stage)\n",
        "        scores = linear_fn.forward(inputs)\n",
        "        cum_loss += loss_fn.forward(scores, labels).item()\n",
        "        \n",
        "         # Count how many correct in this batch.\n",
        "        max_scores, max_labels = scores.max(1)\n",
        "        correct += (max_labels == labels).sum().item()\n",
        "          \n",
        "    val_accuracies.append(correct / len(valset))\n",
        "    val_losses.append(cum_loss / (i + 1))\n",
        "            \n",
        "    # Logging the current results on validation.\n",
        "    print('Validation-epoch %d. Avg-Loss: %.4f, Accuracy: %.4f' % \n",
        "          (epoch, cum_loss / (i + 1), correct / len(valset)))"
      ],
      "execution_count": 58,
      "outputs": [
        {
          "output_type": "stream",
          "text": [
            "Train-epoch 0. Iteration 00100, Avg-Loss: 1.1533, Accuracy: 0.6714\n",
            "Train-epoch 0. Iteration 00200, Avg-Loss: 0.9606, Accuracy: 0.7109\n",
            "Train-epoch 0. Iteration 00300, Avg-Loss: 0.8666, Accuracy: 0.7330\n",
            "Train-epoch 0. Iteration 00400, Avg-Loss: 0.8102, Accuracy: 0.7449\n",
            "Train-epoch 0. Iteration 00500, Avg-Loss: 0.7712, Accuracy: 0.7543\n",
            "Train-epoch 0. Iteration 00600, Avg-Loss: 0.7387, Accuracy: 0.7635\n",
            "Validation-epoch 0. Avg-Loss: 0.5990, Accuracy: 0.7933\n",
            "Train-epoch 1. Iteration 00100, Avg-Loss: 0.5772, Accuracy: 0.8031\n",
            "Train-epoch 1. Iteration 00200, Avg-Loss: 0.5670, Accuracy: 0.8059\n",
            "Train-epoch 1. Iteration 00300, Avg-Loss: 0.5568, Accuracy: 0.8092\n",
            "Train-epoch 1. Iteration 00400, Avg-Loss: 0.5540, Accuracy: 0.8111\n",
            "Train-epoch 1. Iteration 00500, Avg-Loss: 0.5521, Accuracy: 0.8118\n",
            "Train-epoch 1. Iteration 00600, Avg-Loss: 0.5477, Accuracy: 0.8137\n",
            "Validation-epoch 1. Avg-Loss: 0.5463, Accuracy: 0.8109\n",
            "Train-epoch 2. Iteration 00100, Avg-Loss: 0.5214, Accuracy: 0.8219\n",
            "Train-epoch 2. Iteration 00200, Avg-Loss: 0.5187, Accuracy: 0.8232\n",
            "Train-epoch 2. Iteration 00300, Avg-Loss: 0.5177, Accuracy: 0.8233\n",
            "Train-epoch 2. Iteration 00400, Avg-Loss: 0.5146, Accuracy: 0.8248\n",
            "Train-epoch 2. Iteration 00500, Avg-Loss: 0.5114, Accuracy: 0.8257\n",
            "Train-epoch 2. Iteration 00600, Avg-Loss: 0.5092, Accuracy: 0.8258\n",
            "Validation-epoch 2. Avg-Loss: 0.5233, Accuracy: 0.8172\n",
            "Train-epoch 3. Iteration 00100, Avg-Loss: 0.5040, Accuracy: 0.8277\n",
            "Train-epoch 3. Iteration 00200, Avg-Loss: 0.5000, Accuracy: 0.8302\n",
            "Train-epoch 3. Iteration 00300, Avg-Loss: 0.4929, Accuracy: 0.8315\n",
            "Train-epoch 3. Iteration 00400, Avg-Loss: 0.4928, Accuracy: 0.8320\n",
            "Train-epoch 3. Iteration 00500, Avg-Loss: 0.4906, Accuracy: 0.8332\n",
            "Train-epoch 3. Iteration 00600, Avg-Loss: 0.4887, Accuracy: 0.8342\n",
            "Validation-epoch 3. Avg-Loss: 0.5099, Accuracy: 0.8222\n",
            "Train-epoch 4. Iteration 00100, Avg-Loss: 0.4796, Accuracy: 0.8382\n",
            "Train-epoch 4. Iteration 00200, Avg-Loss: 0.4811, Accuracy: 0.8369\n",
            "Train-epoch 4. Iteration 00300, Avg-Loss: 0.4802, Accuracy: 0.8366\n",
            "Train-epoch 4. Iteration 00400, Avg-Loss: 0.4778, Accuracy: 0.8371\n",
            "Train-epoch 4. Iteration 00500, Avg-Loss: 0.4765, Accuracy: 0.8370\n",
            "Train-epoch 4. Iteration 00600, Avg-Loss: 0.4750, Accuracy: 0.8374\n",
            "Validation-epoch 4. Avg-Loss: 0.5000, Accuracy: 0.8239\n"
          ],
          "name": "stdout"
        }
      ]
    },
    {
      "metadata": {
        "id": "NheOKVEvktSU",
        "colab_type": "text"
      },
      "cell_type": "markdown",
      "source": [
        "We achieved an accuracy of 80% a lot faster than in the previous assignment, in fact we reached almost 83% in the same amount of epochs as before, so it seems mini-batching is helping to some extent. Try experimenting with different batch sizes and learning rates. Batch-size and learning rate are two hyper-parameters that are related in the optimization process, and is a current line of active research. For instance, under deep learning models, larger batch sizes do not offer as good generalization as smaller batches, which is bad because it is easier to parallelize code when using larger batch sizes. Also, a common strategy during training is to reduce (decay) the learning rate, as the training progresses to the later epochs, but a recent paper proposed to increase the batch size instead (for more, see: https://arxiv.org/abs/1711.00489 ). Probably for small datasets, keeping the learning rate fixed and batch size fixed will be fine, but as one moves to larger datasets, and deeper models, it becomes crucial to use some more advanced strategies."
      ]
    },
    {
      "metadata": {
        "id": "rL8RK38atNE5",
        "colab_type": "text"
      },
      "cell_type": "markdown",
      "source": [
        "### 3. The Rectified Linear Unit (ReLU) Activation Function.\n"
      ]
    },
    {
      "metadata": {
        "id": "w2SukZfmtbH_",
        "colab_type": "text"
      },
      "cell_type": "markdown",
      "source": [
        "We are close to implementing a neural network, we can accomplish this by stacking a linear operation on top of a Rectified Linear Unit (ReLU) activation, another linear operation, and the softmax + negative log likelihood loss. This is all it takes to create simple neural network with one hidden layer. First, let's implement the ReLU layer as we implemented the linear layer. "
      ]
    },
    {
      "metadata": {
        "id": "i6ZplFBMwAkD",
        "colab_type": "code",
        "outputId": "376ba299-8dd9-4156-a6aa-0e3936751ee4",
        "colab": {
          "base_uri": "https://localhost:8080/",
          "height": 68
        }
      },
      "cell_type": "code",
      "source": [
        "class toynn_ReLU(object):\n",
        "  \n",
        "    # Forward operation: f(x_i) = max(0, x_i)\n",
        "    def forward(self, inputs):\n",
        "        outputs = inputs.clone()\n",
        "        outputs[outputs < 0] = 0\n",
        "        return outputs\n",
        "    \n",
        "    # Make sure the backward pass is absolutely clear.\n",
        "    def backward(self, inputs, outputs_grad):\n",
        "        inputs_grad = outputs_grad.clone() # 1 * previous_grads\n",
        "        inputs_grad[inputs < 0] = 0  # or zero.\n",
        "        return inputs_grad\n",
        "      \n",
        "# Let's test it.\n",
        "x = torch.tensor([-2.3, 2.3, 3.1, -1.3, 4.3])\n",
        "relu_fn = toynn_ReLU()\n",
        "\n",
        "print(\"Input x: \", x)\n",
        "print(\"Output: \", relu_fn.forward(x))\n",
        "print(\"Grad x: \", relu_fn.backward(x, torch.ones(5)))"
      ],
      "execution_count": 59,
      "outputs": [
        {
          "output_type": "stream",
          "text": [
            "Input x:  tensor([-2.3000,  2.3000,  3.1000, -1.3000,  4.3000])\n",
            "Output:  tensor([0.0000, 2.3000, 3.1000, 0.0000, 4.3000])\n",
            "Grad x:  tensor([0., 1., 1., 0., 1.])\n"
          ],
          "name": "stdout"
        }
      ]
    },
    {
      "metadata": {
        "id": "ajJ1z9qb0oqt",
        "colab_type": "text"
      },
      "cell_type": "markdown",
      "source": [
        "### 4. Forward Pass in a Two-Layer Neural Network"
      ]
    },
    {
      "metadata": {
        "id": "LK4M717G0v-8",
        "colab_type": "text"
      },
      "cell_type": "markdown",
      "source": [
        "We are going to show here how to perform inference in a two-layer neural network using the operations defined earlier. In the questions for the assignment it is your task to train this network and demonstrate superior accuracy."
      ]
    },
    {
      "metadata": {
        "id": "pH4e6WI21DHw",
        "colab_type": "code",
        "outputId": "eb7d3790-b618-404e-c005-d9103513aa51",
        "colab": {
          "base_uri": "https://localhost:8080/",
          "height": 381
        }
      },
      "cell_type": "code",
      "source": [
        "import matplotlib\n",
        "matplotlib.rc('image', cmap = 'gray')\n",
        "import matplotlib.pyplot as plt\n",
        "\n",
        "# Setup the input variable x.\n",
        "img, label = trainset[0]\n",
        "x = img.view(1, 1 * 28 * 28)\n",
        "\n",
        "# Setup the number of inputs, hidden neurons, and outputs.\n",
        "nInputs = 1 * 28 * 28\n",
        "nHidden = 512\n",
        "nOutputs = 10\n",
        "\n",
        "# Create the model here.\n",
        "linear_fn1 = toynn_Linear(nInputs, nHidden)\n",
        "relu_fn = toynn_ReLU()\n",
        "linear_fn2 = toynn_Linear(nHidden, nOutputs)\n",
        "\n",
        "# Make predictions.\n",
        "a = linear_fn1.forward(x)\n",
        "z = relu_fn.forward(a)\n",
        "yhat = linear_fn2.forward(z)\n",
        "\n",
        "# Show the prediction scores for each class.\n",
        "# Yes, pytorch tensors already come with a softmax function.\n",
        "# We need it here because we hard-coded the softmax inside \n",
        "# the loss function.\n",
        "print(yhat.softmax(dim = 1)) \n",
        "\n",
        "plt.imshow(img[0]); plt.axis('off'); plt.grid(False)"
      ],
      "execution_count": 60,
      "outputs": [
        {
          "output_type": "stream",
          "text": [
            "tensor([[0.0972, 0.1012, 0.1027, 0.0980, 0.1022, 0.1004, 0.1016, 0.0998, 0.0953,\n",
            "         0.1016]])\n"
          ],
          "name": "stdout"
        },
        {
          "output_type": "display_data",
          "data": {
            "image/png": "[encoded data removed]",
            "text/plain": [
              "<Figure size 576x396 with 1 Axes>"
            ]
          },
          "metadata": {
            "tags": []
          }
        }
      ]
    },
    {
      "metadata": {
        "id": "8I1rONJT53Wu",
        "colab_type": "text"
      },
      "cell_type": "markdown",
      "source": [
        "Since the weights, and biases in the two linear layers [linear_fn1, linear_fn2] are not trained, the predictions are arbitrary at this point. One of the tasks for this assignment is for you to train the neural network."
      ]
    },
    {
      "metadata": {
        "id": "L_8eQuKBi7u0",
        "colab_type": "text"
      },
      "cell_type": "markdown",
      "source": [
        "## Assignment Questions [10pts + 3pts extra]"
      ]
    },
    {
      "metadata": {
        "id": "HpPb-CRh47Ct",
        "colab_type": "text"
      },
      "cell_type": "markdown",
      "source": [
        "* **[3pts] ** Provide code for the following activation functions:\n",
        "\n",
        "$$\\text{Sigmoid(x)} = \\frac{1}{1 + e^{-x}} = \\frac{e^x}{e^x + 1}$$\n",
        "\n",
        "$$\\text{Tanh(x)} = \\frac{e^{x} - e^{-x}}{e^{x} + e^{-x}}$$\n",
        "\n",
        "$$ \\text{LeakyReLU}(x) = \\begin{cases} \n",
        "      0.01 x & x < 0 \\\\\n",
        "      x & x \\geq 0 \n",
        "\\end{cases}$$"
      ]
    },
    {
      "metadata": {
        "id": "0ReR6YZC47eW",
        "colab_type": "code",
        "colab": {
          "base_uri": "https://localhost:8080/",
          "height": 323
        },
        "outputId": "0da67450-dba9-4bf9-c129-548aa44f0033"
      },
      "cell_type": "code",
      "source": [
        "# Sigmoid of x.\n",
        "class toynn_Sigmoid:\n",
        "    def forward(self, x):\n",
        "        # Forward pass.\n",
        "        exp = x.exp()\n",
        "        self.sigmoid = exp / (exp + 1)\n",
        "        return self.sigmoid\n",
        "    \n",
        "    def backward(self, x, output_grads):\n",
        "        # Backward pass\n",
        "        return self.sigmoid * (1 - self.sigmoid) * output_grads\n",
        "        \n",
        "# Hyperbolic tangent.\n",
        "class toynn_Tanh:\n",
        "    def forward(self, x):\n",
        "        # Forward pass.\n",
        "        exp = x.exp()\n",
        "        m_exp = (-x).exp()\n",
        "        self.tanh = (exp - m_exp) / (exp + m_exp)\n",
        "        return self.tanh\n",
        "    \n",
        "    def backward(self, x, output_grads):\n",
        "        # Backward pass\n",
        "        return (1 - self.tanh ** 2) * output_grads\n",
        "      \n",
        "# LeakyReLU of x.\n",
        "class toynn_LeakyReLU:\n",
        "    def forward(self, x):\n",
        "        # Forward pass.\n",
        "        x[x<0] *= 0.01\n",
        "        return x\n",
        "    \n",
        "    def backward(self, x, output_grads):\n",
        "        input_grads = output_grads.clone()\n",
        "        input_grads[x < 0] *= 0.01\n",
        "        return input_grads\n",
        "      \n",
        "x = torch.randn(2, 3)\n",
        "grads = torch.randn(2, 3)\n",
        "\n",
        "activation_fn = toynn_Sigmoid()\n",
        "print('sigmoid forward')\n",
        "print(activation_fn.forward(x))\n",
        "print('sigmoid backward')\n",
        "print(activation_fn.backward(x, grads))\n",
        "\n",
        "activation_fn = toynn_Tanh()\n",
        "print('tanh forward')\n",
        "print(activation_fn.forward(x))\n",
        "print('tanh backward')\n",
        "print(activation_fn.backward(x, grads))\n",
        "\n",
        "activation_fn = toynn_LeakyReLU()\n",
        "print('LeakyReLU forward')\n",
        "print(activation_fn.forward(x))\n",
        "print('LeakyReLU backward')\n",
        "print(activation_fn.backward(x, grads))"
      ],
      "execution_count": 61,
      "outputs": [
        {
          "output_type": "stream",
          "text": [
            "sigmoid forward\n",
            "tensor([[0.7092, 0.6995, 0.6869],\n",
            "        [0.6448, 0.4317, 0.7128]])\n",
            "sigmoid backward\n",
            "tensor([[-0.1591, -0.2503, -0.1351],\n",
            "        [ 0.3454,  0.0740,  0.2888]])\n",
            "tanh forward\n",
            "tensor([[ 0.7121,  0.6884,  0.6561],\n",
            "        [ 0.5345, -0.2682,  0.7207]])\n",
            "tanh backward\n",
            "tensor([[-0.3803, -0.6265, -0.3579],\n",
            "        [ 1.0773,  0.2800,  0.6781]])\n",
            "LeakyReLU forward\n",
            "tensor([[ 0.8914,  0.8449,  0.7859],\n",
            "        [ 0.5964, -0.0027,  0.9090]])\n",
            "LeakyReLU backward\n",
            "tensor([[-0.7716, -1.1907, -0.6284],\n",
            "        [ 1.5082,  0.0030,  1.4109]])\n"
          ],
          "name": "stdout"
        }
      ]
    },
    {
      "metadata": {
        "id": "tAMnCGwv-zJN",
        "colab_type": "text"
      },
      "cell_type": "markdown",
      "source": [
        "* **[2pts] ** Provide code for the binary cross entropy loss function:\n",
        "\n",
        "$$\\ell(y, \\hat{y}) = -\\sum_{i=1}^{i=n} [y_i\\text{log}(\\hat{y}_i) + (1 - y_i)\\text{log}(1 - \\hat{y}_i)]$$,\n",
        "\n",
        "where $n$ is the number of outputs (e.g. the size of vectors $y$ and $\\hat{y}$), the entries in the target vector $y_i$ are binary $\\in \\{0,1\\}$ and $y_i$ are typically the outputs of a sigmoid layer. Remember that the backward pass does not return a scalar but a vector containing the values for $\\partial \\ell / \\partial \\hat{y}_i$, henceforth a vector of the same size as $\\hat{y}$."
      ]
    },
    {
      "metadata": {
        "id": "zVC2BJpa-5Ka",
        "colab_type": "code",
        "colab": {
          "base_uri": "https://localhost:8080/",
          "height": 102
        },
        "outputId": "3a211919-0558-4e3b-d530-f37d42544883"
      },
      "cell_type": "code",
      "source": [
        "# Binary cross entropy loss. \n",
        "# Useful for classification when the classes are not mutually exclusive.\n",
        "# For instance, when both shoe, and dress, are correct labels for an image.\n",
        "# In other words, when images have multiple labels per image.\n",
        "class toynn_BCELoss:\n",
        "    def forward(self, predictions, targets):\n",
        "        # Forward pass.\n",
        "        loss = predictions.clone()\n",
        "        loss[targets == 1] = loss[targets == 1]\n",
        "        loss[targets == 0] = 1 - predictions[targets == 0]\n",
        "        return -(loss.log().sum(1)).mean()\n",
        "        \n",
        "        \n",
        "        \n",
        "    def backward(self, predictions, targets):\n",
        "        # Backward pass.\n",
        "        input_grads = predictions.clone()\n",
        "        input_grads[targets == 0] = input_grads[targets == 0] - 1\n",
        "        return -1 / input_grads\n",
        "        \n",
        "predictions = torch.rand(2, 3)\n",
        "targets = torch.LongTensor([[0, 1, 1], [1, 0, 1]])\n",
        "\n",
        "\n",
        "loss_fn = toynn_BCELoss()\n",
        "print('BCELoss forward')\n",
        "print(loss_fn.forward(predictions, targets))\n",
        "print('BCELoss backward')\n",
        "print(loss_fn.backward(predictions, targets))"
      ],
      "execution_count": 62,
      "outputs": [
        {
          "output_type": "stream",
          "text": [
            "BCELoss forward\n",
            "tensor(0.9941)\n",
            "BCELoss backward\n",
            "tensor([[ 1.0795, -1.2643, -1.0671],\n",
            "        [-1.1594,  1.1673, -3.7050]])\n"
          ],
          "name": "stdout"
        }
      ]
    },
    {
      "metadata": {
        "id": "LGIxg3q5i_bl",
        "colab_type": "text"
      },
      "cell_type": "markdown",
      "source": [
        "* **[5pts] ** Train the two-layer Neural Network as defined in Section 3 of this Assignment on FashionMNIST using toynn. Include below the code for training this neural network and report the training, validation plots for loss and accuracy. The code should be similar to the code in Section 2 of this assignment, please follow that convention."
      ]
    },
    {
      "metadata": {
        "id": "UzQc9ZtKjnf0",
        "colab_type": "code",
        "colab": {
          "base_uri": "https://localhost:8080/",
          "height": 612
        },
        "outputId": "ab6608d0-feeb-4af4-fd94-2ad48aafd215"
      },
      "cell_type": "code",
      "source": [
        "# Your code goes here.\n",
        "# Define a learning rate. \n",
        "learningRate = 1e-3\n",
        "\n",
        "# Define number of epochs.\n",
        "N = 5\n",
        "batchSize = 100\n",
        "\n",
        "# Setup the number of inputs, hidden neurons, and outputs.\n",
        "nInputs = 1 * 28 * 28\n",
        "nHidden = 512\n",
        "nOutputs = 10\n",
        "\n",
        "# Create the model.\n",
        "loss_fn = toynn_CrossEntropyLoss()\n",
        "linear_fn1 = toynn_Linear(nInputs, nHidden)\n",
        "activation_fn = toynn_ReLU() # toynn_ReLU toynn_Sigmoid toynn_Tanh toynn_LeakyReLU\n",
        "linear_fn2 = toynn_Linear(nHidden, nOutputs)\n",
        "\n",
        "\n",
        "# log accuracies and losses.\n",
        "train_accuracies = []; val_accuracies = []\n",
        "train_losses = []; val_losses = []\n",
        "\n",
        "# Training loop. Please make sure you understand every single line of code below.\n",
        "# Go back to some of the previous steps in this lab if necessary.\n",
        "for epoch in range(0, N):\n",
        "    correct = 0.0\n",
        "    cum_loss = 0.0\n",
        "    \n",
        "    # Make a pass over the training data.\n",
        "    for (i, (inputs, labels)) in enumerate(train_loader):\n",
        "        inputs = inputs.view(batchSize, 1 * 28 * 28)\n",
        "        \n",
        "        # Forward pass. (Prediction stage)\n",
        "        a = linear_fn1.forward(inputs)\n",
        "        z = activation_fn.forward(a)\n",
        "        yhat = linear_fn2.forward(z)\n",
        "        \n",
        "        cum_loss += loss_fn.forward(yhat, labels).item()\n",
        "        \n",
        "        # Count how many correct in this batch.\n",
        "        max_scores, max_labels = yhat.max(1)\n",
        "        correct += (max_labels == labels).sum().item()\n",
        "        \n",
        "        #Backward pass. (Gradient computation stage)\n",
        "        scores_grads = loss_fn.backward(scores, labels)\n",
        "        z_grads = linear_fn2.backward(z, scores_grads)\n",
        "        a_grads = activation_fn.backward(a, z_grads)\n",
        "        inputs_grads = linear_fn1.backward(inputs, a_grads)\n",
        "        \n",
        "        \n",
        "        # Parameter updates (SGD step).\n",
        "        linear_fn1.weight.add_(-learningRate, linear_fn1.weight_grads)\n",
        "        linear_fn1.bias.add_(-learningRate, linear_fn1.bias_grads)\n",
        "        linear_fn2.weight.add_(-learningRate, linear_fn2.weight_grads)\n",
        "        linear_fn2.bias.add_(-learningRate, linear_fn2.bias_grads)\n",
        "       \n",
        "    \n",
        "        # Logging the current results on training.\n",
        "        if (i + 1) % 100 == 0:\n",
        "            print('Train-epoch %d. Iteration %05d, Avg-Loss: %.4f, Accuracy: %.4f' % \n",
        "                  (epoch, i + 1, cum_loss / (i + 1), correct / ((i + 1) * batchSize)))\n",
        "    \n",
        "    train_accuracies.append(correct / len(trainset))\n",
        "    train_losses.append(cum_loss / len(trainset))\n",
        "    \n",
        "    \n",
        "    # Make a pass over the validation data.\n",
        "    correct = 0.0\n",
        "    cum_loss = 0.0\n",
        "    for (i, (inputs, labels)) in enumerate(val_loader):\n",
        "        inputs = inputs.view(batchSize, 1 * 28 * 28)\n",
        "        \n",
        "        # Forward pass. (Prediction stage)\n",
        "        a = linear_fn1.forward(inputs)\n",
        "        z = activation_fn.forward(a)\n",
        "        yhat = linear_fn2.forward(z)\n",
        "        \n",
        "        cum_loss += loss_fn.forward(yhat, labels).item()\n",
        "        \n",
        "         # Count how many correct in this batch.\n",
        "        max_scores, max_labels = yhat.max(1)\n",
        "        correct += (max_labels == labels).sum().item()\n",
        "          \n",
        "    val_accuracies.append(correct / len(valset))\n",
        "    val_losses.append(cum_loss / (i + 1))\n",
        "            \n",
        "    # Logging the current results on validation.\n",
        "    print('Validation-epoch %d. Avg-Loss: %.4f, Accuracy: %.4f' % \n",
        "          (epoch, cum_loss / (i + 1), correct / len(valset)))"
      ],
      "execution_count": 63,
      "outputs": [
        {
          "output_type": "stream",
          "text": [
            "Train-epoch 0. Iteration 00100, Avg-Loss: 0.9862, Accuracy: 0.6549\n",
            "Train-epoch 0. Iteration 00200, Avg-Loss: 0.7928, Accuracy: 0.7170\n",
            "Train-epoch 0. Iteration 00300, Avg-Loss: 0.7090, Accuracy: 0.7453\n",
            "Train-epoch 0. Iteration 00400, Avg-Loss: 0.6606, Accuracy: 0.7621\n",
            "Train-epoch 0. Iteration 00500, Avg-Loss: 0.6258, Accuracy: 0.7730\n",
            "Train-epoch 0. Iteration 00600, Avg-Loss: 0.5994, Accuracy: 0.7826\n",
            "Validation-epoch 0. Avg-Loss: 0.4698, Accuracy: 0.8222\n",
            "Train-epoch 1. Iteration 00100, Avg-Loss: 0.4397, Accuracy: 0.8364\n",
            "Train-epoch 1. Iteration 00200, Avg-Loss: 0.4408, Accuracy: 0.8381\n",
            "Train-epoch 1. Iteration 00300, Avg-Loss: 0.4289, Accuracy: 0.8413\n",
            "Train-epoch 1. Iteration 00400, Avg-Loss: 0.4226, Accuracy: 0.8440\n",
            "Train-epoch 1. Iteration 00500, Avg-Loss: 0.4216, Accuracy: 0.8443\n",
            "Train-epoch 1. Iteration 00600, Avg-Loss: 0.4186, Accuracy: 0.8459\n",
            "Validation-epoch 1. Avg-Loss: 0.4273, Accuracy: 0.8466\n",
            "Train-epoch 2. Iteration 00100, Avg-Loss: 0.3812, Accuracy: 0.8593\n",
            "Train-epoch 2. Iteration 00200, Avg-Loss: 0.3840, Accuracy: 0.8581\n",
            "Train-epoch 2. Iteration 00300, Avg-Loss: 0.3826, Accuracy: 0.8594\n",
            "Train-epoch 2. Iteration 00400, Avg-Loss: 0.3799, Accuracy: 0.8608\n",
            "Train-epoch 2. Iteration 00500, Avg-Loss: 0.3775, Accuracy: 0.8614\n",
            "Train-epoch 2. Iteration 00600, Avg-Loss: 0.3764, Accuracy: 0.8620\n",
            "Validation-epoch 2. Avg-Loss: 0.4032, Accuracy: 0.8552\n",
            "Train-epoch 3. Iteration 00100, Avg-Loss: 0.3380, Accuracy: 0.8784\n",
            "Train-epoch 3. Iteration 00200, Avg-Loss: 0.3496, Accuracy: 0.8739\n",
            "Train-epoch 3. Iteration 00300, Avg-Loss: 0.3510, Accuracy: 0.8721\n",
            "Train-epoch 3. Iteration 00400, Avg-Loss: 0.3510, Accuracy: 0.8729\n",
            "Train-epoch 3. Iteration 00500, Avg-Loss: 0.3504, Accuracy: 0.8722\n",
            "Train-epoch 3. Iteration 00600, Avg-Loss: 0.3490, Accuracy: 0.8724\n",
            "Validation-epoch 3. Avg-Loss: 0.3867, Accuracy: 0.8626\n",
            "Train-epoch 4. Iteration 00100, Avg-Loss: 0.3221, Accuracy: 0.8785\n",
            "Train-epoch 4. Iteration 00200, Avg-Loss: 0.3303, Accuracy: 0.8785\n",
            "Train-epoch 4. Iteration 00300, Avg-Loss: 0.3307, Accuracy: 0.8791\n",
            "Train-epoch 4. Iteration 00400, Avg-Loss: 0.3302, Accuracy: 0.8797\n",
            "Train-epoch 4. Iteration 00500, Avg-Loss: 0.3292, Accuracy: 0.8801\n",
            "Train-epoch 4. Iteration 00600, Avg-Loss: 0.3265, Accuracy: 0.8810\n",
            "Validation-epoch 4. Avg-Loss: 0.3749, Accuracy: 0.8662\n"
          ],
          "name": "stdout"
        }
      ]
    },
    {
      "metadata": {
        "id": "gXlKZ2eQj9Y7",
        "colab_type": "text"
      },
      "cell_type": "markdown",
      "source": [
        "* **[3pts (extra)]** Train a Neural Network **using toynn** on the CIFAR 10 Dataset (torchvision.datasets.CIFAR10). Include the code for defining, and training the neural network, as well as plots for training, validation for loss and accuracy. Show the predictions for one example of this dataset. Write down below your code in bold face the accuracy you obtained and in how many epochs. I will post the highest accuracies that people obtained for this part."
      ]
    },
    {
      "metadata": {
        "id": "rFVlAB57g5bR",
        "colab_type": "code",
        "colab": {
          "base_uri": "https://localhost:8080/",
          "height": 51
        },
        "outputId": "b8798e1d-831a-4ea4-eae1-3fa0ee1e72ba"
      },
      "cell_type": "code",
      "source": [
        "# Your code goes here.\n",
        "import torch\n",
        "from torchvision import transforms\n",
        "from torchvision.datasets import CIFAR10\n",
        "import matplotlib\n",
        "import matplotlib.pyplot as plt\n",
        "\n",
        "# Removes, the need to call F.to_image ourselves.\n",
        "# Also, please look up what transforms.Normalize does.\n",
        "transform = transforms.Compose([transforms.ToTensor(),\n",
        "                               transforms.Normalize((0.5, 0.5, 0.5), \n",
        "                                                    (0.5, 0.5, 0.5))])\n",
        "\n",
        "# Load the training, and validation datasets.\n",
        "trainset = CIFAR10(root = './data', train = True, transform = transform, download = True)\n",
        "valset = CIFAR10(root = './data', train = False, transform = transform, download = True)\n",
        "\n",
        "# img, label = trainset[0]\n",
        "# plt.imshow(img.transpose(0, 2).transpose(0, 1));\n",
        "\n",
        "# NEW: Pytorch DataLoader for iterating over batches.\n",
        "batchSize = 100\n",
        "\n",
        "# Shuffling is needed in case dataset is not shuffled by default.\n",
        "train_loader = torch.utils.data.DataLoader(dataset = trainset,\n",
        "                                           batch_size = batchSize,\n",
        "                                           shuffle = True)\n",
        "# We don't need to bach the validation set but let's do it anyway.\n",
        "val_loader = torch.utils.data.DataLoader(dataset = valset,\n",
        "                                         batch_size = batchSize,\n",
        "                                         shuffle = False) # No need."
      ],
      "execution_count": 54,
      "outputs": [
        {
          "output_type": "stream",
          "text": [
            "Files already downloaded and verified\n",
            "Files already downloaded and verified\n"
          ],
          "name": "stdout"
        }
      ]
    },
    {
      "metadata": {
        "id": "feWB2DO7lWQv",
        "colab_type": "code",
        "colab": {
          "base_uri": "https://localhost:8080/",
          "height": 1037
        },
        "outputId": "b1a4ed90-655b-47dc-f92c-f29190dcc267"
      },
      "cell_type": "code",
      "source": [
        "N = 10\n",
        "\n",
        "# Define a learning rate. \n",
        "learningRate = 1e-3\n",
        "\n",
        "# Setup the number of inputs, hidden neurons, and outputs.\n",
        "nInputs = 3 * 32 * 32\n",
        "nHidden1 = 512 * 6\n",
        "nHidden2 = 512 * 6\n",
        "nHidden3 = 512 * 6\n",
        "nOutputs = 10\n",
        "\n",
        "# Create the model.\n",
        "loss_fn = toynn_CrossEntropyLoss()\n",
        "linear_fn1 = toynn_Linear(nInputs, nHidden1)\n",
        "activation_fn1 = toynn_ReLU() # toynn_ReLU toynn_Sigmoid toynn_Tanh toynn_LeakyReLU\n",
        "linear_fn2 = toynn_Linear(nHidden1, nHidden2)\n",
        "activation_fn2 = toynn_ReLU()\n",
        "linear_fn3 = toynn_Linear(nHidden2, nHidden3)\n",
        "activation_fn3 = toynn_ReLU()\n",
        "linear_fn4 = toynn_Linear(nHidden3, nOutputs)\n",
        "\n",
        "# log accuracies and losses.\n",
        "train_accuracies = []; val_accuracies = []\n",
        "train_losses = []; val_losses = []\n",
        "\n",
        "# Training loop. Please make sure you understand every single line of code below.\n",
        "# Go back to some of the previous steps in this lab if necessary.\n",
        "for epoch in range(0, N):\n",
        "    correct = 0.0\n",
        "    cum_loss = 0.0\n",
        "    \n",
        "    # Make a pass over the training data.\n",
        "    for (i, (inputs, labels)) in enumerate(train_loader):\n",
        "        inputs = inputs.view(batchSize, nInputs)\n",
        "        \n",
        "        # Forward pass. (Prediction stage)\n",
        "        a = linear_fn1.forward(inputs)\n",
        "        z = activation_fn1.forward(a)\n",
        "        b = linear_fn2.forward(z)\n",
        "        c = activation_fn2.forward(b)\n",
        "        d = linear_fn3.forward(c)\n",
        "        e = activation_fn3.forward(d)\n",
        "        yhat = linear_fn4.forward(e)\n",
        "        \n",
        "        \n",
        "        cum_loss += loss_fn.forward(yhat, labels).item()\n",
        "        \n",
        "        # Count how many correct in this batch.\n",
        "        max_scores, max_labels = yhat.max(1)\n",
        "        correct += (max_labels == labels).sum().item()\n",
        "        \n",
        "        #Backward pass. (Gradient computation stage)\n",
        "        scores_grads = loss_fn.backward(scores, labels)\n",
        "        e_grads = linear_fn4.backward(e, scores_grads)\n",
        "        d_grads = activation_fn3.backward(d, e_grads)\n",
        "        c_grads = linear_fn3.backward(c, d_grads)\n",
        "        b_grads = activation_fn2.backward(b, c_grads)\n",
        "        z_grads = linear_fn2.backward(z, b_grads)\n",
        "        a_grads = activation_fn1.backward(a, z_grads)\n",
        "        inputs_grads = linear_fn1.backward(inputs, a_grads)\n",
        "        \n",
        "        \n",
        "        # Parameter updates (SGD step).\n",
        "        linear_fn1.weight.add_(-learningRate, linear_fn1.weight_grads)\n",
        "        linear_fn1.bias.add_(-learningRate, linear_fn1.bias_grads)\n",
        "        linear_fn2.weight.add_(-learningRate, linear_fn2.weight_grads)\n",
        "        linear_fn2.bias.add_(-learningRate, linear_fn2.bias_grads)\n",
        "        linear_fn3.weight.add_(-learningRate, linear_fn3.weight_grads)\n",
        "        linear_fn3.bias.add_(-learningRate, linear_fn3.bias_grads)\n",
        "        linear_fn4.weight.add_(-learningRate, linear_fn4.weight_grads)\n",
        "        linear_fn4.bias.add_(-learningRate, linear_fn4.bias_grads)\n",
        "    \n",
        "        # Logging the current results on training.\n",
        "        if (i + 1) % 100 == 0:\n",
        "            print('Train-epoch %d. Iteration %05d, Avg-Loss: %.4f, Accuracy: %.4f' % \n",
        "                  (epoch, i + 1, cum_loss / (i + 1), correct / ((i + 1) * batchSize)))\n",
        "    \n",
        "    train_accuracies.append(correct / len(trainset))\n",
        "    train_losses.append(cum_loss / len(trainset))\n",
        "    \n",
        "    \n",
        "    # Make a pass over the validation data.\n",
        "    correct = 0.0\n",
        "    cum_loss = 0.0\n",
        "    for (i, (inputs, labels)) in enumerate(val_loader):\n",
        "        inputs = inputs.view(batchSize, 3 * 32 * 32)\n",
        "        \n",
        "        # Forward pass. (Prediction stage)\n",
        "        a = linear_fn1.forward(inputs)\n",
        "        z = activation_fn1.forward(a)\n",
        "        b = linear_fn2.forward(z)\n",
        "        c = activation_fn2.forward(b)\n",
        "        d = linear_fn3.forward(c)\n",
        "        e = activation_fn3.forward(d)\n",
        "        yhat = linear_fn4.forward(e)\n",
        "        \n",
        "        cum_loss += loss_fn.forward(yhat, labels).item()\n",
        "        \n",
        "         # Count how many correct in this batch.\n",
        "        max_scores, max_labels = yhat.max(1)\n",
        "        correct += (max_labels == labels).sum().item()\n",
        "          \n",
        "    val_accuracies.append(correct / len(valset))\n",
        "    val_losses.append(cum_loss / (i + 1))\n",
        "            \n",
        "    # Logging the current results on validation.\n",
        "    print('Validation-epoch %d. Avg-Loss: %.4f, Accuracy: %.4f' % \n",
        "          (epoch, cum_loss / (i + 1), correct / len(valset)))"
      ],
      "execution_count": 44,
      "outputs": [
        {
          "output_type": "stream",
          "text": [
            "Train-epoch 0. Iteration 00100, Avg-Loss: 2.0947, Accuracy: 0.2484\n",
            "Train-epoch 0. Iteration 00200, Avg-Loss: 1.9504, Accuracy: 0.3004\n",
            "Train-epoch 0. Iteration 00300, Avg-Loss: 1.8662, Accuracy: 0.3305\n",
            "Train-epoch 0. Iteration 00400, Avg-Loss: 1.8076, Accuracy: 0.3524\n",
            "Train-epoch 0. Iteration 00500, Avg-Loss: 1.7629, Accuracy: 0.3697\n",
            "Validation-epoch 0. Avg-Loss: 1.5350, Accuracy: 0.4554\n",
            "Train-epoch 1. Iteration 00100, Avg-Loss: 1.5230, Accuracy: 0.4595\n",
            "Train-epoch 1. Iteration 00200, Avg-Loss: 1.5071, Accuracy: 0.4651\n",
            "Train-epoch 1. Iteration 00300, Avg-Loss: 1.4958, Accuracy: 0.4707\n",
            "Train-epoch 1. Iteration 00400, Avg-Loss: 1.4812, Accuracy: 0.4767\n",
            "Train-epoch 1. Iteration 00500, Avg-Loss: 1.4693, Accuracy: 0.4815\n",
            "Validation-epoch 1. Avg-Loss: 1.3992, Accuracy: 0.5013\n",
            "Train-epoch 2. Iteration 00100, Avg-Loss: 1.3449, Accuracy: 0.5297\n",
            "Train-epoch 2. Iteration 00200, Avg-Loss: 1.3472, Accuracy: 0.5251\n",
            "Train-epoch 2. Iteration 00300, Avg-Loss: 1.3434, Accuracy: 0.5266\n",
            "Train-epoch 2. Iteration 00400, Avg-Loss: 1.3379, Accuracy: 0.5282\n",
            "Train-epoch 2. Iteration 00500, Avg-Loss: 1.3338, Accuracy: 0.5303\n",
            "Validation-epoch 2. Avg-Loss: 1.3994, Accuracy: 0.5080\n",
            "Train-epoch 3. Iteration 00100, Avg-Loss: 1.2270, Accuracy: 0.5651\n",
            "Train-epoch 3. Iteration 00200, Avg-Loss: 1.2293, Accuracy: 0.5649\n",
            "Train-epoch 3. Iteration 00300, Avg-Loss: 1.2273, Accuracy: 0.5673\n",
            "Train-epoch 3. Iteration 00400, Avg-Loss: 1.2262, Accuracy: 0.5659\n",
            "Train-epoch 3. Iteration 00500, Avg-Loss: 1.2289, Accuracy: 0.5657\n",
            "Validation-epoch 3. Avg-Loss: 1.3172, Accuracy: 0.5349\n",
            "Train-epoch 4. Iteration 00100, Avg-Loss: 1.1292, Accuracy: 0.6020\n",
            "Train-epoch 4. Iteration 00200, Avg-Loss: 1.1337, Accuracy: 0.6012\n",
            "Train-epoch 4. Iteration 00300, Avg-Loss: 1.1357, Accuracy: 0.6003\n",
            "Train-epoch 4. Iteration 00400, Avg-Loss: 1.1382, Accuracy: 0.5981\n",
            "Train-epoch 4. Iteration 00500, Avg-Loss: 1.1347, Accuracy: 0.5985\n",
            "Validation-epoch 4. Avg-Loss: 1.3156, Accuracy: 0.5338\n",
            "Train-epoch 5. Iteration 00100, Avg-Loss: 1.0405, Accuracy: 0.6337\n",
            "Train-epoch 5. Iteration 00200, Avg-Loss: 1.0427, Accuracy: 0.6330\n",
            "Train-epoch 5. Iteration 00300, Avg-Loss: 1.0427, Accuracy: 0.6335\n",
            "Train-epoch 5. Iteration 00400, Avg-Loss: 1.0452, Accuracy: 0.6325\n",
            "Train-epoch 5. Iteration 00500, Avg-Loss: 1.0509, Accuracy: 0.6307\n",
            "Validation-epoch 5. Avg-Loss: 1.3131, Accuracy: 0.5362\n",
            "Train-epoch 6. Iteration 00100, Avg-Loss: 0.9276, Accuracy: 0.6750\n",
            "Train-epoch 6. Iteration 00200, Avg-Loss: 0.9434, Accuracy: 0.6683\n",
            "Train-epoch 6. Iteration 00300, Avg-Loss: 0.9484, Accuracy: 0.6663\n",
            "Train-epoch 6. Iteration 00400, Avg-Loss: 0.9565, Accuracy: 0.6625\n",
            "Train-epoch 6. Iteration 00500, Avg-Loss: 0.9590, Accuracy: 0.6620\n",
            "Validation-epoch 6. Avg-Loss: 1.2939, Accuracy: 0.5516\n",
            "Train-epoch 7. Iteration 00100, Avg-Loss: 0.8251, Accuracy: 0.7058\n",
            "Train-epoch 7. Iteration 00200, Avg-Loss: 0.8443, Accuracy: 0.6993\n",
            "Train-epoch 7. Iteration 00300, Avg-Loss: 0.8527, Accuracy: 0.6983\n",
            "Train-epoch 7. Iteration 00400, Avg-Loss: 0.8636, Accuracy: 0.6946\n",
            "Train-epoch 7. Iteration 00500, Avg-Loss: 0.8688, Accuracy: 0.6927\n",
            "Validation-epoch 7. Avg-Loss: 1.3577, Accuracy: 0.5560\n",
            "Train-epoch 8. Iteration 00100, Avg-Loss: 0.7306, Accuracy: 0.7484\n",
            "Train-epoch 8. Iteration 00200, Avg-Loss: 0.7493, Accuracy: 0.7395\n",
            "Train-epoch 8. Iteration 00300, Avg-Loss: 0.7658, Accuracy: 0.7327\n",
            "Train-epoch 8. Iteration 00400, Avg-Loss: 0.7751, Accuracy: 0.7278\n",
            "Train-epoch 8. Iteration 00500, Avg-Loss: 0.7826, Accuracy: 0.7248\n",
            "Validation-epoch 8. Avg-Loss: 1.3895, Accuracy: 0.5535\n",
            "Train-epoch 9. Iteration 00100, Avg-Loss: 0.6464, Accuracy: 0.7704\n",
            "Train-epoch 9. Iteration 00200, Avg-Loss: 0.6640, Accuracy: 0.7690\n",
            "Train-epoch 9. Iteration 00300, Avg-Loss: 0.6738, Accuracy: 0.7652\n",
            "Train-epoch 9. Iteration 00400, Avg-Loss: 0.6813, Accuracy: 0.7615\n",
            "Train-epoch 9. Iteration 00500, Avg-Loss: 0.6905, Accuracy: 0.7575\n",
            "Validation-epoch 9. Avg-Loss: 1.3694, Accuracy: 0.5676\n"
          ],
          "name": "stdout"
        }
      ]
    },
    {
      "metadata": {
        "id": "7VLqNpM79-3l",
        "colab_type": "text"
      },
      "cell_type": "markdown",
      "source": [
        "**I obtained a validation accuracy of 56.76% after 10 epochs.**"
      ]
    }
  ]
}